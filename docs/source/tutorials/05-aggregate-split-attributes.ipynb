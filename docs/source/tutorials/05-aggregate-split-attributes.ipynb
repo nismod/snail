{
 "cells": [
  {
   "cell_type": "markdown",
   "metadata": {},
   "source": [
    "# Aggregating Split Attributes\n",
    "\n",
    "This short tutorial shows how to summarise metrics calculated on split geometries into a raster grid and write the result to disk."
   ]
  },
  {
   "cell_type": "code",
   "execution_count": 1,
   "id": "1418ef09",
   "metadata": {},
   "outputs": [],
   "source": [
    "import os\n",
    "from pathlib import Path\n",
    "\n",
    "import pandas\n",
    "from snail.intersection import GridDefinition, aggregate_values_to_grid\n",
    "from snail.io import write_grid_to_raster"
   ]
  },
  {
   "cell_type": "code",
   "execution_count": 2,
   "id": "ea5e5ada",
   "metadata": {},
   "outputs": [],
   "source": [
    "dir = (\n",
    "    Path(os.getcwd()).resolve().parents[3]\n",
    ")  # get parent directory of snail package\n",
    "data_folder = dir / \"ghana_tutorial\"\n",
    "# data_folder = Path(\"YOUR_PATH/ghana_tutorial\")"
   ]
  },
  {
   "cell_type": "code",
   "execution_count": 9,
   "id": "3a3a3159",
   "metadata": {},
   "outputs": [
    {
     "name": "stdout",
     "output_type": "stream",
     "text": [
      "direct_route.png\n",
      "GHA_OSM_roads_edges___exposure.geoparquet\n",
      "inunriver_damages_ead.csv\n",
      "inunriver_damages_ead__historical.csv\n",
      "inunriver_damages_rp.csv\n",
      "inunriver_historical_000000000WATCH_1980_rp00100__roads_exposure.csv\n",
      "inunriver_historical_000000000WATCH_1980_rp00100__roads_exposure.gpkg\n"
     ]
    }
   ],
   "source": [
    "! ls {data_folder}/results"
   ]
  },
  {
   "cell_type": "code",
   "execution_count": 12,
   "metadata": {
    "tags": [
     "hide-input"
    ]
   },
   "outputs": [],
   "source": [
    "splits = pandas.read_parquet(data_folder / \"results\" / \"GHA_OSM_roads_edges___exposure.geoparquet\")"
   ]
  },
  {
   "cell_type": "code",
   "execution_count": 17,
   "id": "681eff97",
   "metadata": {},
   "outputs": [
    {
     "data": {
      "text/plain": [
       "osm_id                                                 4790594\n",
       "road_type                                             tertiary\n",
       "name                                              Airport Road\n",
       "id                                                     roade_0\n",
       "from_id                                                roadn_0\n",
       "to_id                                                  roadn_1\n",
       "length_m                                             48.717294\n",
       "geometry     b'\\x01\\x02\\x00\\x00\\x00\\x02\\x00\\x00\\x00\\xbb\\x05...\n",
       "split                                                        0\n",
       "i_0                                                        370\n",
       "j_0                                                        667\n",
       "Name: 0, dtype: object"
      ]
     },
     "execution_count": 17,
     "metadata": {},
     "output_type": "execute_result"
    }
   ],
   "source": [
    "splits.iloc[0, :11]"
   ]
  },
  {
   "cell_type": "code",
   "execution_count": 19,
   "id": "001ecee0",
   "metadata": {},
   "outputs": [
    {
     "data": {
      "text/plain": [
       "'wri_aqueduct-version_2-inuncoast_historical_wtsub_2030_rp0001_5-gha.tif'"
      ]
     },
     "execution_count": 19,
     "metadata": {},
     "output_type": "execute_result"
    }
   ],
   "source": [
    "hazard_paths = sorted((data_folder/ \"flood_layer\" / \"gha\" / \"wri_aqueduct_version_2\").glob(\"*.tif\"))\n",
    "hazard_paths[0].name"
   ]
  },
  {
   "cell_type": "code",
   "execution_count": 21,
   "id": "343fbbc3",
   "metadata": {},
   "outputs": [
    {
     "data": {
      "text/plain": [
       "GridDefinition(crs=CRS.from_wkt('GEOGCS[\"WGS 84\",DATUM[\"WGS_1984\",SPHEROID[\"WGS 84\",6378137,298.257223563,AUTHORITY[\"EPSG\",\"7030\"]],AUTHORITY[\"EPSG\",\"6326\"]],PRIMEM[\"Greenwich\",0,AUTHORITY[\"EPSG\",\"8901\"]],UNIT[\"degree\",0.0174532925199433,AUTHORITY[\"EPSG\",\"9122\"]],AXIS[\"Latitude\",NORTH],AXIS[\"Longitude\",EAST],AUTHORITY[\"EPSG\",\"4326\"]]'), width=534, height=771, transform=(0.008333333333333333, 0.0, -3.26666666666668, 0.0, -0.008333333333333333, 11.166666666666671))"
      ]
     },
     "execution_count": 21,
     "metadata": {},
     "output_type": "execute_result"
    }
   ],
   "source": [
    "grid = GridDefinition.from_raster(hazard_paths[0])\n",
    "grid"
   ]
  },
  {
   "cell_type": "code",
   "execution_count": null,
   "id": "67be455d",
   "metadata": {},
   "outputs": [
    {
     "data": {
      "text/plain": [
       "array([[0., 0., 0., ..., 0., 0., 0.],\n",
       "       [0., 0., 0., ..., 0., 0., 0.],\n",
       "       [0., 0., 0., ..., 0., 0., 0.],\n",
       "       ...,\n",
       "       [0., 0., 0., ..., 0., 0., 0.],\n",
       "       [0., 0., 0., ..., 0., 0., 0.],\n",
       "       [0., 0., 0., ..., 0., 0., 0.]], shape=(771, 534))"
      ]
     },
     "execution_count": 24,
     "metadata": {},
     "output_type": "execute_result"
    }
   ],
   "source": [
    "length_raster = aggregate_values_to_grid(\n",
    "    splits,\n",
    "    'length_m',\n",
    "    grid,\n",
    "    index_i=\"i_0\",\n",
    "    index_j=\"j_0\"\n",
    ")\n",
    "length_raster"
   ]
  },
  {
   "cell_type": "code",
   "execution_count": 25,
   "id": "dc502e66",
   "metadata": {},
   "outputs": [],
   "source": [
    "write_grid_to_raster(\n",
    "    length_raster,\n",
    "    data_folder / \"results\" / \"road_length_m_per_cell.tif\",\n",
    "    grid.transform,\n",
    "    grid.crs\n",
    ")"
   ]
  }
 ],
 "metadata": {
  "kernelspec": {
   "display_name": "Python 3",
   "language": "python",
   "name": "python3"
  },
  "language_info": {
   "codemirror_mode": {
    "name": "ipython",
    "version": 3
   },
   "file_extension": ".py",
   "mimetype": "text/x-python",
   "name": "python",
   "nbconvert_exporter": "python",
   "pygments_lexer": "ipython3",
   "version": "3.13.7"
  }
 },
 "nbformat": 4,
 "nbformat_minor": 5
}
