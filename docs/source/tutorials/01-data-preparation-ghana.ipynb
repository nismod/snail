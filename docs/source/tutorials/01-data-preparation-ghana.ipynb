{
 "cells": [
  {
   "attachments": {},
   "cell_type": "markdown",
   "metadata": {},
   "source": [
    "## Data preparation and infrastructure exposure to flooding\n",
    "\n",
    "This notebook forms the basis of \"Hands-On 5\" in the CCG course.\n",
    "\n",
    "1. Extract infrastructure data from OpenStreetMap\n",
    "2. Extract flood hazard data from Aqueduct\n",
    "3. Intersect floods with roads to calculate exposure\n",
    "4. Open QGIS to look at the data"
   ]
  },
  {
   "cell_type": "code",
   "execution_count": 25,
   "metadata": {},
   "outputs": [],
   "source": [
    "# The os and subprocess modules are built into Python\n",
    "# see https://docs.python.org/3/library/os.html\n",
    "import os\n",
    "\n",
    "# see https://docs.python.org/3/library/subprocess.html\n",
    "import subprocess\n",
    "\n",
    "# see https://docs.python.org/3/library/time.html\n",
    "import time\n",
    "\n",
    "# see https://docs.python.org/3/library/pathlib.html\n",
    "from pathlib import Path"
   ]
  },
  {
   "attachments": {},
   "cell_type": "markdown",
   "metadata": {},
   "source": [
    "### Activity 1: Extract infrastructure data\n",
    "\n",
    "#### Step 1) On your desktop, create a folder called `ghana_tutorial`\n",
    "\n",
    "#### Step 2) Create a variable to store the folder location\n",
    "\n",
    "In the cell below, type in the path to your desktop, by changing NAME to match your username as shown on your computer"
   ]
  },
  {
   "cell_type": "code",
   "execution_count": 26,
   "metadata": {},
   "outputs": [],
   "source": [
    "# edit this if using a Mac (otherwise delete)\n",
    "data_folder = Path(\"YOUR_PATH/ghana_tutorial\")\n",
    "\n",
    "# edit this if using Windows (otherwise delete)\n",
    "# data_folder = Path(\"C:YOUR_PATH/ghana_tutorial\")\n",
    "\n",
    "# delete this line\n",
    "# data_folder = Path(\"../data\")"
   ]
  },
  {
   "attachments": {},
   "cell_type": "markdown",
   "metadata": {},
   "source": [
    "### Step 3) Load Python libraries"
   ]
  },
  {
   "cell_type": "code",
   "execution_count": 27,
   "metadata": {},
   "outputs": [],
   "source": [
    "# Pandas and GeoPandas are libraries for working with datasets\n",
    "# see https://geopandas.org/\n",
    "import geopandas as gpd\n",
    "\n",
    "gpd._compat.USE_PYGEOS = False\n",
    "# see https://pandas.pydata.org/\n",
    "import pandas as pd\n",
    "\n",
    "# This package interacts with a risk data extract service, also accessible at\n",
    "# https://global.infrastructureresilience.org/downloads\n",
    "import irv_autopkg_client\n",
    "\n",
    "# We'll use snail to intersect roads with flooding\n",
    "import snail.intersection\n",
    "import snail.io\n",
    "\n",
    "# snkit helps generate connected networks from lines and nodes\n",
    "# see https://snkit.readthedocs.io/\n",
    "import snkit\n",
    "import snkit.network\n",
    "\n",
    "# PyPROJ is a library for working with geographic projections\n",
    "# see https://pyproj4.github.io/\n",
    "from pyproj import Geod\n",
    "\n",
    "from matplotlib import pyplot as plt"
   ]
  },
  {
   "attachments": {},
   "cell_type": "markdown",
   "metadata": {},
   "source": [
    "#### Step 4) and 5) Download and save data"
   ]
  },
  {
   "attachments": {},
   "cell_type": "markdown",
   "metadata": {},
   "source": [
    "Download the `ghana-latest-free.shp.zip` dataset from http://download.geofabrik.de/africa/ghana.html, extract the zip folder and save the extracted folder within your new folder `ghana_tutorial`"
   ]
  },
  {
   "attachments": {},
   "cell_type": "markdown",
   "metadata": {},
   "source": [
    "#### Step 6) Load the road dataset you've just downloaded"
   ]
  },
  {
   "cell_type": "code",
   "execution_count": 28,
   "metadata": {},
   "outputs": [],
   "source": [
    "roads = gpd.read_file(\n",
    "    data_folder / \"ghana-latest-free\" / \"gis_osm_roads_free_1.shp\"\n",
    ")"
   ]
  },
  {
   "attachments": {},
   "cell_type": "markdown",
   "metadata": {},
   "source": [
    "#### Step 7) To take a look at the data and the attribute table fill in and run the next two cells"
   ]
  },
  {
   "cell_type": "code",
   "execution_count": 29,
   "metadata": {},
   "outputs": [
    {
     "data": {
      "text/html": [
       "<div>\n",
       "<style scoped>\n",
       "    .dataframe tbody tr th:only-of-type {\n",
       "        vertical-align: middle;\n",
       "    }\n",
       "\n",
       "    .dataframe tbody tr th {\n",
       "        vertical-align: top;\n",
       "    }\n",
       "\n",
       "    .dataframe thead th {\n",
       "        text-align: right;\n",
       "    }\n",
       "</style>\n",
       "<table border=\"1\" class=\"dataframe\">\n",
       "  <thead>\n",
       "    <tr style=\"text-align: right;\">\n",
       "      <th></th>\n",
       "      <th>osm_id</th>\n",
       "      <th>code</th>\n",
       "      <th>fclass</th>\n",
       "      <th>name</th>\n",
       "      <th>ref</th>\n",
       "      <th>oneway</th>\n",
       "      <th>maxspeed</th>\n",
       "      <th>layer</th>\n",
       "      <th>bridge</th>\n",
       "      <th>tunnel</th>\n",
       "      <th>geometry</th>\n",
       "    </tr>\n",
       "  </thead>\n",
       "  <tbody>\n",
       "    <tr>\n",
       "      <th>0</th>\n",
       "      <td>4790591</td>\n",
       "      <td>5121</td>\n",
       "      <td>unclassified</td>\n",
       "      <td>Airport Road</td>\n",
       "      <td>None</td>\n",
       "      <td>B</td>\n",
       "      <td>0</td>\n",
       "      <td>0</td>\n",
       "      <td>F</td>\n",
       "      <td>F</td>\n",
       "      <td>LINESTRING (-0.17184 5.60847, -0.17182 5.60849...</td>\n",
       "    </tr>\n",
       "    <tr>\n",
       "      <th>1</th>\n",
       "      <td>4790592</td>\n",
       "      <td>5122</td>\n",
       "      <td>residential</td>\n",
       "      <td>Nortei Ababio Road</td>\n",
       "      <td>None</td>\n",
       "      <td>B</td>\n",
       "      <td>0</td>\n",
       "      <td>0</td>\n",
       "      <td>F</td>\n",
       "      <td>F</td>\n",
       "      <td>LINESTRING (-0.18282 5.61197, -0.18336 5.61198...</td>\n",
       "    </tr>\n",
       "    <tr>\n",
       "      <th>2</th>\n",
       "      <td>4790594</td>\n",
       "      <td>5115</td>\n",
       "      <td>tertiary</td>\n",
       "      <td>Airport Road</td>\n",
       "      <td>None</td>\n",
       "      <td>F</td>\n",
       "      <td>0</td>\n",
       "      <td>0</td>\n",
       "      <td>F</td>\n",
       "      <td>F</td>\n",
       "      <td>LINESTRING (-0.17544 5.60550, -0.17418 5.60555...</td>\n",
       "    </tr>\n",
       "    <tr>\n",
       "      <th>3</th>\n",
       "      <td>4790596</td>\n",
       "      <td>5121</td>\n",
       "      <td>unclassified</td>\n",
       "      <td>Airport Road</td>\n",
       "      <td>None</td>\n",
       "      <td>F</td>\n",
       "      <td>0</td>\n",
       "      <td>0</td>\n",
       "      <td>F</td>\n",
       "      <td>F</td>\n",
       "      <td>LINESTRING (-0.17207 5.60853, -0.17207 5.60844...</td>\n",
       "    </tr>\n",
       "    <tr>\n",
       "      <th>4</th>\n",
       "      <td>4790597</td>\n",
       "      <td>5122</td>\n",
       "      <td>residential</td>\n",
       "      <td>Volta Road</td>\n",
       "      <td>None</td>\n",
       "      <td>B</td>\n",
       "      <td>0</td>\n",
       "      <td>0</td>\n",
       "      <td>F</td>\n",
       "      <td>F</td>\n",
       "      <td>LINESTRING (-0.18282 5.61197, -0.18280 5.61262...</td>\n",
       "    </tr>\n",
       "  </tbody>\n",
       "</table>\n",
       "</div>"
      ],
      "text/plain": [
       "    osm_id  code        fclass                name   ref oneway  maxspeed  \\\n",
       "0  4790591  5121  unclassified        Airport Road  None      B         0   \n",
       "1  4790592  5122   residential  Nortei Ababio Road  None      B         0   \n",
       "2  4790594  5115      tertiary        Airport Road  None      F         0   \n",
       "3  4790596  5121  unclassified        Airport Road  None      F         0   \n",
       "4  4790597  5122   residential          Volta Road  None      B         0   \n",
       "\n",
       "   layer bridge tunnel                                           geometry  \n",
       "0      0      F      F  LINESTRING (-0.17184 5.60847, -0.17182 5.60849...  \n",
       "1      0      F      F  LINESTRING (-0.18282 5.61197, -0.18336 5.61198...  \n",
       "2      0      F      F  LINESTRING (-0.17544 5.60550, -0.17418 5.60555...  \n",
       "3      0      F      F  LINESTRING (-0.17207 5.60853, -0.17207 5.60844...  \n",
       "4      0      F      F  LINESTRING (-0.18282 5.61197, -0.18280 5.61262...  "
      ]
     },
     "execution_count": 29,
     "metadata": {},
     "output_type": "execute_result"
    }
   ],
   "source": [
    "roads.head(5)"
   ]
  },
  {
   "cell_type": "code",
   "execution_count": 30,
   "metadata": {},
   "outputs": [
    {
     "data": {
      "text/plain": [
       "array(['unclassified', 'residential', 'tertiary', 'tertiary_link',\n",
       "       'secondary', 'trunk', 'service', 'primary', 'motorway_link',\n",
       "       'trunk_link', 'primary_link', 'secondary_link', 'footway', 'path',\n",
       "       'track', 'motorway', 'track_grade3', 'track_grade4', 'steps',\n",
       "       'pedestrian', 'bridleway', 'cycleway', 'track_grade2',\n",
       "       'track_grade5', 'track_grade1', 'living_street', 'busway'],\n",
       "      dtype=object)"
      ]
     },
     "execution_count": 30,
     "metadata": {},
     "output_type": "execute_result"
    }
   ],
   "source": [
    "roads.fclass.unique()"
   ]
  },
  {
   "attachments": {},
   "cell_type": "markdown",
   "metadata": {},
   "source": [
    "#### Step 8) Next we want to make a couple of changes to the data"
   ]
  },
  {
   "attachments": {},
   "cell_type": "markdown",
   "metadata": {},
   "source": [
    "Filter out minor and residential roads, tracks and paths."
   ]
  },
  {
   "cell_type": "code",
   "execution_count": 31,
   "metadata": {},
   "outputs": [],
   "source": [
    "# Keep only the specified columns\n",
    "roads = roads[[\"osm_id\", \"fclass\", \"name\", \"geometry\"]]\n",
    "# Keep only the roads whose \"fclass\" is in the list\n",
    "roads = roads[\n",
    "    roads.fclass.isin(\n",
    "        [\n",
    "            \"motorway\",\n",
    "            \"motorway_link\",\n",
    "            \"trunk\",\n",
    "            \"trunk_link\",\n",
    "            \"primary\",\n",
    "            \"primary_link\",\n",
    "            \"secondary\",\n",
    "            \"secondary_link\",\n",
    "            \"tertiary\",\n",
    "            \"tertiary_link\",\n",
    "        ]\n",
    "    )\n",
    "]\n",
    "# Rename some columns\n",
    "roads = roads.rename(\n",
    "    columns={\n",
    "        \"fclass\": \"road_type\",\n",
    "    }\n",
    ")"
   ]
  },
  {
   "attachments": {},
   "cell_type": "markdown",
   "metadata": {},
   "source": [
    "Create topological network information - this adds information that will let us find routes over the road network.\n",
    "- add nodes at the start and end of each road segment\n",
    "- split roads at junctions, so each segment goes from junction to junction\n",
    "- add ids to each node and edge, and add `from_id` and `to_id` to each edge"
   ]
  },
  {
   "cell_type": "code",
   "execution_count": 32,
   "metadata": {},
   "outputs": [],
   "source": [
    "road_network = snkit.Network(edges=roads)"
   ]
  },
  {
   "cell_type": "code",
   "execution_count": 33,
   "metadata": {},
   "outputs": [],
   "source": [
    "with_endpoints = snkit.network.add_endpoints(road_network)\n",
    "split_edges = snkit.network.split_edges_at_nodes(with_endpoints)\n",
    "with_ids = snkit.network.add_ids(\n",
    "    split_edges, id_col=\"id\", edge_prefix=\"roade\", node_prefix=\"roadn\"\n",
    ")\n",
    "connected = snkit.network.add_topology(with_ids)\n",
    "roads = connected.edges\n",
    "road_nodes = connected.nodes"
   ]
  },
  {
   "attachments": {},
   "cell_type": "markdown",
   "metadata": {},
   "source": [
    "Calculate the length of each road segment in meters"
   ]
  },
  {
   "cell_type": "code",
   "execution_count": 34,
   "metadata": {},
   "outputs": [],
   "source": [
    "geod = Geod(ellps=\"WGS84\")\n",
    "roads[\"length_m\"] = roads.geometry.apply(geod.geometry_length)"
   ]
  },
  {
   "cell_type": "code",
   "execution_count": 35,
   "metadata": {},
   "outputs": [
    {
     "data": {
      "text/html": [
       "<div>\n",
       "<style scoped>\n",
       "    .dataframe tbody tr th:only-of-type {\n",
       "        vertical-align: middle;\n",
       "    }\n",
       "\n",
       "    .dataframe tbody tr th {\n",
       "        vertical-align: top;\n",
       "    }\n",
       "\n",
       "    .dataframe thead th {\n",
       "        text-align: right;\n",
       "    }\n",
       "</style>\n",
       "<table border=\"1\" class=\"dataframe\">\n",
       "  <thead>\n",
       "    <tr style=\"text-align: right;\">\n",
       "      <th></th>\n",
       "      <th>osm_id</th>\n",
       "      <th>road_type</th>\n",
       "      <th>name</th>\n",
       "      <th>geometry</th>\n",
       "      <th>id</th>\n",
       "      <th>from_id</th>\n",
       "      <th>to_id</th>\n",
       "      <th>length_m</th>\n",
       "    </tr>\n",
       "  </thead>\n",
       "  <tbody>\n",
       "    <tr>\n",
       "      <th>15992</th>\n",
       "      <td>1290190247</td>\n",
       "      <td>tertiary_link</td>\n",
       "      <td>None</td>\n",
       "      <td>LINESTRING (-0.12481 5.74521, -0.12490 5.74498)</td>\n",
       "      <td>roade_15992</td>\n",
       "      <td>roadn_12502</td>\n",
       "      <td>roadn_12503</td>\n",
       "      <td>27.700205</td>\n",
       "    </tr>\n",
       "    <tr>\n",
       "      <th>15993</th>\n",
       "      <td>1290190248</td>\n",
       "      <td>tertiary_link</td>\n",
       "      <td>None</td>\n",
       "      <td>LINESTRING (-0.13500 5.74826, -0.13501 5.74795)</td>\n",
       "      <td>roade_15993</td>\n",
       "      <td>roadn_12504</td>\n",
       "      <td>roadn_12505</td>\n",
       "      <td>33.975731</td>\n",
       "    </tr>\n",
       "    <tr>\n",
       "      <th>15994</th>\n",
       "      <td>1290190251</td>\n",
       "      <td>tertiary</td>\n",
       "      <td>None</td>\n",
       "      <td>LINESTRING (-0.12720 5.74611, -0.12490 5.74498)</td>\n",
       "      <td>roade_15994</td>\n",
       "      <td>roadn_10570</td>\n",
       "      <td>roadn_12503</td>\n",
       "      <td>283.569056</td>\n",
       "    </tr>\n",
       "    <tr>\n",
       "      <th>15995</th>\n",
       "      <td>1290190251</td>\n",
       "      <td>tertiary</td>\n",
       "      <td>None</td>\n",
       "      <td>LINESTRING (-0.12490 5.74498, -0.12394 5.74449...</td>\n",
       "      <td>roade_15995</td>\n",
       "      <td>roadn_12503</td>\n",
       "      <td>roadn_12506</td>\n",
       "      <td>888.391459</td>\n",
       "    </tr>\n",
       "    <tr>\n",
       "      <th>15996</th>\n",
       "      <td>1290190252</td>\n",
       "      <td>tertiary_link</td>\n",
       "      <td>None</td>\n",
       "      <td>LINESTRING (-0.14601 5.74863, -0.14594 5.74867...</td>\n",
       "      <td>roade_15996</td>\n",
       "      <td>roadn_12507</td>\n",
       "      <td>roadn_12508</td>\n",
       "      <td>39.078872</td>\n",
       "    </tr>\n",
       "  </tbody>\n",
       "</table>\n",
       "</div>"
      ],
      "text/plain": [
       "           osm_id      road_type  name  \\\n",
       "15992  1290190247  tertiary_link  None   \n",
       "15993  1290190248  tertiary_link  None   \n",
       "15994  1290190251       tertiary  None   \n",
       "15995  1290190251       tertiary  None   \n",
       "15996  1290190252  tertiary_link  None   \n",
       "\n",
       "                                                geometry           id  \\\n",
       "15992    LINESTRING (-0.12481 5.74521, -0.12490 5.74498)  roade_15992   \n",
       "15993    LINESTRING (-0.13500 5.74826, -0.13501 5.74795)  roade_15993   \n",
       "15994    LINESTRING (-0.12720 5.74611, -0.12490 5.74498)  roade_15994   \n",
       "15995  LINESTRING (-0.12490 5.74498, -0.12394 5.74449...  roade_15995   \n",
       "15996  LINESTRING (-0.14601 5.74863, -0.14594 5.74867...  roade_15996   \n",
       "\n",
       "           from_id        to_id    length_m  \n",
       "15992  roadn_12502  roadn_12503   27.700205  \n",
       "15993  roadn_12504  roadn_12505   33.975731  \n",
       "15994  roadn_10570  roadn_12503  283.569056  \n",
       "15995  roadn_12503  roadn_12506  888.391459  \n",
       "15996  roadn_12507  roadn_12508   39.078872  "
      ]
     },
     "execution_count": 35,
     "metadata": {},
     "output_type": "execute_result"
    }
   ],
   "source": [
    "roads.tail(5)"
   ]
  },
  {
   "cell_type": "code",
   "execution_count": 36,
   "metadata": {},
   "outputs": [
    {
     "data": {
      "text/plain": [
       "<Geographic 2D CRS: EPSG:4326>\n",
       "Name: WGS 84\n",
       "Axis Info [ellipsoidal]:\n",
       "- Lat[north]: Geodetic latitude (degree)\n",
       "- Lon[east]: Geodetic longitude (degree)\n",
       "Area of Use:\n",
       "- name: World.\n",
       "- bounds: (-180.0, -90.0, 180.0, 90.0)\n",
       "Datum: World Geodetic System 1984 ensemble\n",
       "- Ellipsoid: WGS 84\n",
       "- Prime Meridian: Greenwich"
      ]
     },
     "execution_count": 36,
     "metadata": {},
     "output_type": "execute_result"
    }
   ],
   "source": [
    "roads.set_crs(4326, inplace=True)\n",
    "road_nodes.set_crs(4326, inplace=True)\n",
    "road_nodes.crs"
   ]
  },
  {
   "cell_type": "code",
   "execution_count": 37,
   "metadata": {},
   "outputs": [
    {
     "data": {
      "text/plain": [
       "Text(170.1578223077743, 0.5, 'Latitude [deg]')"
      ]
     },
     "execution_count": 37,
     "metadata": {},
     "output_type": "execute_result"
    },
    {
     "data": {
      "image/png": "[encoded data removed]",
      "text/plain": [
       "<Figure size 640x480 with 1 Axes>"
      ]
     },
     "metadata": {},
     "output_type": "display_data"
    }
   ],
   "source": [
    "main_roads = roads[roads[\"road_type\"].isin([\"trunk\",\"secondary\",])]\n",
    "\n",
    "f, ax = plt.subplots()\n",
    "\n",
    "main_roads.plot(\n",
    "    ax=ax,\n",
    "    alpha=1,\n",
    "    linewidth=0.5,\n",
    ")\n",
    "\n",
    "ax.grid()\n",
    "ax.set_title(\"Main roads of Ghana\")\n",
    "ax.set_xlabel(\"Longitude [deg]\")\n",
    "ax.set_ylabel(\"Latitude [deg]\")"
   ]
  },
  {
   "attachments": {},
   "cell_type": "markdown",
   "metadata": {},
   "source": [
    "#### Step 9) Save the pre-processed dataset"
   ]
  },
  {
   "cell_type": "code",
   "execution_count": 38,
   "metadata": {},
   "outputs": [],
   "source": [
    "roads.to_file(\n",
    "    data_folder / \"GHA_OSM_roads.gpkg\",\n",
    "    layer=\"edges\",\n",
    "    driver=\"GPKG\",\n",
    ")\n",
    "road_nodes.to_file(\n",
    "    data_folder / \"GHA_OSM_roads.gpkg\",\n",
    "    layer=\"nodes\",\n",
    "    driver=\"GPKG\",\n",
    ")"
   ]
  },
  {
   "attachments": {},
   "cell_type": "markdown",
   "metadata": {},
   "source": [
    "### Activity 2: Extract hazard data\n"
   ]
  },
  {
   "attachments": {},
   "cell_type": "markdown",
   "metadata": {},
   "source": [
    "The full [Aqueduct dataset](https://www.wri.org/resources/data-sets/aqueduct-floods-hazard-maps) is available to download openly. \n",
    "\n",
    "Country-level extracts are available through the [Global Systemic Risk Assessment Tool (G-SRAT)](https://global.infrastructureresilience.org/downloads/). This section uses that service to download an extract for Ghana."
   ]
  },
  {
   "cell_type": "code",
   "execution_count": 39,
   "metadata": {},
   "outputs": [],
   "source": [
    "country_iso = \"gha\""
   ]
  },
  {
   "attachments": {},
   "cell_type": "markdown",
   "metadata": {},
   "source": [
    "Create a client to connect to the data API:"
   ]
  },
  {
   "cell_type": "code",
   "execution_count": 40,
   "metadata": {},
   "outputs": [],
   "source": [
    "client = irv_autopkg_client.Client()"
   ]
  },
  {
   "cell_type": "code",
   "execution_count": 41,
   "metadata": {},
   "outputs": [],
   "source": [
    "job_id = client.job_submit(country_iso, [\"wri_aqueduct.version_2\"])"
   ]
  },
  {
   "cell_type": "code",
   "execution_count": 42,
   "metadata": {},
   "outputs": [
    {
     "name": "stdout",
     "output_type": "stream",
     "text": [
      "Processing...\n"
     ]
    }
   ],
   "source": [
    "while not client.job_complete(job_id):\n",
    "    print(\"Processing...\")\n",
    "    time.sleep(1)"
   ]
  },
  {
   "cell_type": "code",
   "execution_count": 43,
   "metadata": {},
   "outputs": [],
   "source": [
    "client.extract_download(\n",
    "    country_iso,\n",
    "    data_folder / \"flood_layer\",\n",
    "    # there may be other datasets available, but only download the following\n",
    "    dataset_filter=[\"wri_aqueduct.version_2\"],\n",
    "    overwrite=True,\n",
    ")"
   ]
  },
  {
   "attachments": {},
   "cell_type": "markdown",
   "metadata": {},
   "source": [
    "#### Alternative: download flood hazard data from Aqueduct"
   ]
  },
  {
   "attachments": {},
   "cell_type": "markdown",
   "metadata": {},
   "source": [
    "The full [Aqueduct dataset](https://www.wri.org/resources/data-sets/aqueduct-floods-hazard-maps) is available to download. There are some scripts and summary of the data you may find useful at [nismod/aqueduct](https://github.com/nismod/aqueduct).\n",
    "\n",
    "There are almost 700 files in the full Aqueduct dataset, of up to around 100MB each, so we don't recommend downloading all of them unless you intend to do further analysis.\n",
    "\n",
    "The next steps show how to clip a region out of the global dataset, in case you prefer to work from the original global Aqueduct files.\n",
    "\n",
    "To follow this step, we suggest downloading [inunriver_historical_000000000WATCH_1980_rp00100.tif](http://wri-projects.s3.amazonaws.com/AqueductFloodTool/download/v2/inunriver_historical_000000000WATCH_1980_rp00100.tif) to work through the next steps. Save the downloaded file in a new folder titled `flood_layer` under your data_folder."
   ]
  },
  {
   "cell_type": "code",
   "execution_count": 44,
   "metadata": {},
   "outputs": [
    {
     "name": "stdout",
     "output_type": "stream",
     "text": [
      "Looking in /Users/ivannschlosser/Documents/oxford/ghana_tutorial/flood_layer\n",
      "Looking in /Users/ivannschlosser/Documents/oxford/ghana_tutorial/flood_layer/gha\n",
      "Looking in /Users/ivannschlosser/Documents/oxford/ghana_tutorial/flood_layer/gha/wri_aqueduct_version_2\n"
     ]
    }
   ],
   "source": [
    "xmin = \"-3.262509\"\n",
    "ymin = \"4.737128\"\n",
    "xmax = \"1.187968\"\n",
    "ymax = \"11.162937\"\n",
    "\n",
    "for root, dirs, files in os.walk(os.path.join(data_folder, \"flood_layer\")):\n",
    "    print(\"Looking in\", root)\n",
    "    for file_ in sorted(files):\n",
    "        if file_.endswith(\".tif\") and not file_.endswith(\n",
    "            f\"-{country_iso}.tif\"\n",
    "        ):\n",
    "            print(\"Found tif file\", file_)\n",
    "            stem = file_[:-4]\n",
    "            input_file = os.path.join(root, file_)\n",
    "\n",
    "            # Clip file to bounds\n",
    "            clip_file = os.path.join(\n",
    "                root,\n",
    "                \"gha\",\n",
    "                \"wri_aqueduct_version_2\",\n",
    "                f\"{stem}-{country_iso}.tif\",\n",
    "            )\n",
    "            try:\n",
    "                os.remove(clip_file)\n",
    "            except FileNotFoundError:\n",
    "                pass\n",
    "            cmd = [\n",
    "                \"gdalwarp\",\n",
    "                \"-te\",\n",
    "                xmin,\n",
    "                ymin,\n",
    "                xmax,\n",
    "                ymax,\n",
    "                input_file,\n",
    "                clip_file,\n",
    "            ]\n",
    "            print(cmd)\n",
    "            p = subprocess.run(cmd, capture_output=True)\n",
    "            print(p.stdout.decode(\"utf8\"))\n",
    "            print(p.stderr.decode(\"utf8\"))\n",
    "            print(clip_file)"
   ]
  },
  {
   "attachments": {},
   "cell_type": "markdown",
   "metadata": {},
   "source": [
    "### Activity 3: Intersect hazard "
   ]
  },
  {
   "attachments": {},
   "cell_type": "markdown",
   "metadata": {},
   "source": [
    "Let us now intersect the hazard and the roads, starting with one hazard initially so we save time."
   ]
  },
  {
   "attachments": {},
   "cell_type": "markdown",
   "metadata": {},
   "source": [
    "#### Step 1) Specify your input and output path as well as the name of the intersection"
   ]
  },
  {
   "cell_type": "code",
   "execution_count": 45,
   "metadata": {},
   "outputs": [],
   "source": [
    "flood_path = Path(\n",
    "    data_folder,\n",
    "    \"flood_layer\",\n",
    "    \"gha\",\n",
    "    \"wri_aqueduct_version_2\",\n",
    "    \"inunriver_historical_000000000WATCH_1980_rp00100-gha.tif\",\n",
    ")\n",
    "\n",
    "output_path = Path(\n",
    "    data_folder,\n",
    "    \"results\",\n",
    "    \"inunriver_historical_000000000WATCH_1980_rp00100__roads_exposure.gpkg\",\n",
    ")"
   ]
  },
  {
   "attachments": {},
   "cell_type": "markdown",
   "metadata": {},
   "source": [
    "Read in pre-processed road edges, as created earlier."
   ]
  },
  {
   "cell_type": "code",
   "execution_count": 46,
   "metadata": {},
   "outputs": [],
   "source": [
    "roads = gpd.read_file(data_folder / \"GHA_OSM_roads.gpkg\", layer=\"edges\")"
   ]
  },
  {
   "attachments": {},
   "cell_type": "markdown",
   "metadata": {},
   "source": [
    "#### Step 2) Run the intersection"
   ]
  },
  {
   "cell_type": "code",
   "execution_count": null,
   "metadata": {},
   "outputs": [],
   "source": [
    "grid, bands = snail.io.read_raster_metadata(flood_path)\n",
    "\n",
    "prepared = snail.intersection.prepare_linestrings(roads)\n",
    "flood_intersections = snail.intersection.split_linestrings(prepared, grid)\n",
    "flood_intersections = snail.intersection.apply_indices(\n",
    "    flood_intersections, grid\n",
    ")\n",
    "flood_data = snail.io.read_raster_band_data(flood_path)\n",
    "flood_intersections[\n",
    "    \"inunriver__epoch_historical__rcp_baseline__rp_100\"\n",
    "] = snail.intersection.get_raster_values_for_splits(\n",
    "    flood_intersections, flood_data\n",
    ")"
   ]
  },
  {
   "attachments": {},
   "cell_type": "markdown",
   "metadata": {},
   "source": [
    "Calculate the exposed length"
   ]
  },
  {
   "cell_type": "code",
   "execution_count": 48,
   "metadata": {},
   "outputs": [],
   "source": [
    "geod = Geod(ellps=\"WGS84\")\n",
    "flood_intersections[\"flood_length_m\"] = flood_intersections.geometry.apply(\n",
    "    geod.geometry_length\n",
    ")"
   ]
  },
  {
   "cell_type": "code",
   "execution_count": 49,
   "metadata": {},
   "outputs": [
    {
     "data": {
      "text/html": [
       "<div>\n",
       "<style scoped>\n",
       "    .dataframe tbody tr th:only-of-type {\n",
       "        vertical-align: middle;\n",
       "    }\n",
       "\n",
       "    .dataframe tbody tr th {\n",
       "        vertical-align: top;\n",
       "    }\n",
       "\n",
       "    .dataframe thead th {\n",
       "        text-align: right;\n",
       "    }\n",
       "</style>\n",
       "<table border=\"1\" class=\"dataframe\">\n",
       "  <thead>\n",
       "    <tr style=\"text-align: right;\">\n",
       "      <th></th>\n",
       "      <th>osm_id</th>\n",
       "      <th>road_type</th>\n",
       "      <th>name</th>\n",
       "      <th>id</th>\n",
       "      <th>from_id</th>\n",
       "      <th>to_id</th>\n",
       "      <th>length_m</th>\n",
       "      <th>geometry</th>\n",
       "      <th>split</th>\n",
       "      <th>index_i</th>\n",
       "      <th>index_j</th>\n",
       "      <th>inunriver__epoch_historical__rcp_baseline__rp_100</th>\n",
       "      <th>flood_length_m</th>\n",
       "    </tr>\n",
       "  </thead>\n",
       "  <tbody>\n",
       "    <tr>\n",
       "      <th>15995</th>\n",
       "      <td>1290190251</td>\n",
       "      <td>tertiary</td>\n",
       "      <td>None</td>\n",
       "      <td>roade_15995</td>\n",
       "      <td>roadn_12503</td>\n",
       "      <td>roadn_12506</td>\n",
       "      <td>888.391459</td>\n",
       "      <td>LINESTRING (-0.12490 5.74498, -0.12394 5.74449...</td>\n",
       "      <td>0</td>\n",
       "      <td>377</td>\n",
       "      <td>650</td>\n",
       "      <td>0.0</td>\n",
       "      <td>888.391459</td>\n",
       "    </tr>\n",
       "    <tr>\n",
       "      <th>15996</th>\n",
       "      <td>1290190252</td>\n",
       "      <td>tertiary_link</td>\n",
       "      <td>None</td>\n",
       "      <td>roade_15996</td>\n",
       "      <td>roadn_12507</td>\n",
       "      <td>roadn_12508</td>\n",
       "      <td>39.078872</td>\n",
       "      <td>LINESTRING (-0.14601 5.74863, -0.14594 5.74867...</td>\n",
       "      <td>0</td>\n",
       "      <td>374</td>\n",
       "      <td>650</td>\n",
       "      <td>0.0</td>\n",
       "      <td>39.078872</td>\n",
       "    </tr>\n",
       "  </tbody>\n",
       "</table>\n",
       "</div>"
      ],
      "text/plain": [
       "           osm_id      road_type  name           id      from_id        to_id  \\\n",
       "15995  1290190251       tertiary  None  roade_15995  roadn_12503  roadn_12506   \n",
       "15996  1290190252  tertiary_link  None  roade_15996  roadn_12507  roadn_12508   \n",
       "\n",
       "         length_m                                           geometry  split  \\\n",
       "15995  888.391459  LINESTRING (-0.12490 5.74498, -0.12394 5.74449...      0   \n",
       "15996   39.078872  LINESTRING (-0.14601 5.74863, -0.14594 5.74867...      0   \n",
       "\n",
       "       index_i  index_j  inunriver__epoch_historical__rcp_baseline__rp_100  \\\n",
       "15995      377      650                                                0.0   \n",
       "15996      374      650                                                0.0   \n",
       "\n",
       "       flood_length_m  \n",
       "15995      888.391459  \n",
       "15996       39.078872  "
      ]
     },
     "execution_count": 49,
     "metadata": {},
     "output_type": "execute_result"
    }
   ],
   "source": [
    "flood_intersections.tail(2)"
   ]
  },
  {
   "attachments": {},
   "cell_type": "markdown",
   "metadata": {},
   "source": [
    "Calculate the proportion of roads in our dataset which are exposed to >=1m flood depths in this scenario"
   ]
  },
  {
   "cell_type": "code",
   "execution_count": 50,
   "metadata": {},
   "outputs": [
    {
     "data": {
      "text/plain": [
       "765.1773274965389"
      ]
     },
     "execution_count": 50,
     "metadata": {},
     "output_type": "execute_result"
    }
   ],
   "source": [
    "exposed_1m = flood_intersections[\n",
    "    flood_intersections.inunriver__epoch_historical__rcp_baseline__rp_100 >= 1\n",
    "]\n",
    "exposed_length_km = exposed_1m.flood_length_m.sum() * 1e-3\n",
    "exposed_length_km"
   ]
  },
  {
   "cell_type": "code",
   "execution_count": 51,
   "metadata": {},
   "outputs": [
    {
     "data": {
      "text/plain": [
       "29441.60010046896"
      ]
     },
     "execution_count": 51,
     "metadata": {},
     "output_type": "execute_result"
    }
   ],
   "source": [
    "all_roads_in_dataset_length_km = roads.length_m.sum() * 1e-3\n",
    "all_roads_in_dataset_length_km"
   ]
  },
  {
   "cell_type": "code",
   "execution_count": 52,
   "metadata": {},
   "outputs": [
    {
     "data": {
      "text/plain": [
       "0.0259896651297954"
      ]
     },
     "execution_count": 52,
     "metadata": {},
     "output_type": "execute_result"
    }
   ],
   "source": [
    "proportion = exposed_length_km / all_roads_in_dataset_length_km\n",
    "proportion"
   ]
  },
  {
   "cell_type": "code",
   "execution_count": 53,
   "metadata": {},
   "outputs": [
    {
     "data": {
      "text/plain": [
       "'2.6% of roads in this dataset are exposed to flood depths of >= 1m in a historical 1-in-100 year flood'"
      ]
     },
     "execution_count": 53,
     "metadata": {},
     "output_type": "execute_result"
    }
   ],
   "source": [
    "f\"{proportion:.1%} of roads in this dataset are exposed to flood depths of >= 1m in a historical 1-in-100 year flood\""
   ]
  },
  {
   "cell_type": "code",
   "execution_count": 54,
   "metadata": {},
   "outputs": [],
   "source": [
    "output_path.parent.mkdir(parents=True, exist_ok=True)"
   ]
  },
  {
   "attachments": {},
   "cell_type": "markdown",
   "metadata": {},
   "source": [
    "Save to file (with spatial data)"
   ]
  },
  {
   "cell_type": "code",
   "execution_count": 55,
   "metadata": {},
   "outputs": [],
   "source": [
    "flood_intersections.to_file(output_path, driver=\"GPKG\")"
   ]
  },
  {
   "attachments": {},
   "cell_type": "markdown",
   "metadata": {},
   "source": [
    "Save to CSV (without spatial data)"
   ]
  },
  {
   "cell_type": "code",
   "execution_count": 56,
   "metadata": {},
   "outputs": [],
   "source": [
    "flood_intersections.drop(columns=\"geometry\").to_csv(\n",
    "    output_path.parent / output_path.name.replace(\".gpkg\", \".csv\")\n",
    ")"
   ]
  }
 ],
 "metadata": {
  "kernelspec": {
   "display_name": "Python 3",
   "language": "python",
   "name": "python3"
  },
  "language_info": {
   "codemirror_mode": {
    "name": "ipython",
    "version": 3
   },
   "file_extension": ".py",
   "mimetype": "text/x-python",
   "name": "python",
   "nbconvert_exporter": "python",
   "pygments_lexer": "ipython3",
   "version": "3.11.9"
  }
 },
 "nbformat": 4,
 "nbformat_minor": 4
}
