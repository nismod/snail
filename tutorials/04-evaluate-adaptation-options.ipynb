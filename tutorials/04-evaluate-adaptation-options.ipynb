{
 "cells": [
  {
   "cell_type": "markdown",
   "id": "global-length",
   "metadata": {},
   "source": [
    "# Evaluating infrastructure adaptation options\n",
    "\n",
    "This notebook forms the basis of \"Hands-On 8\" in the CCG course.\n",
    "\n",
    "1. Take the risk results for the Ghana road damage and disruption analysis from previous hands-on sessions\n",
    "2. Assume some adaptation options - explain what this means - and show their costs\n",
    "3. Explain cost-benefit analysis (CBA) and show how to calculate Net Present Values for benefits (avoided risks) and costs\n",
    "\n",
    "By the end of this tutorial you should be able to:\n",
    "* Quantify the potential risk reduction of adaptation options\n",
    "* Prioritise assets based on cost-benefit analysis for different adaptation options"
   ]
  },
  {
   "cell_type": "code",
   "execution_count": null,
   "id": "rocky-continent",
   "metadata": {},
   "outputs": [],
   "source": [
    "# Imports from Python standard library\n",
    "import os\n",
    "import warnings\n",
    "from glob import glob\n",
    "\n",
    "# Imports from other Python packages\n",
    "import geopandas as gpd\n",
    "import networkx as nx\n",
    "import numpy as np\n",
    "import pandas as pd\n",
    "import seaborn as sns\n",
    "from tqdm.notebook import tqdm"
   ]
  },
  {
   "cell_type": "markdown",
   "id": "found-equilibrium",
   "metadata": {},
   "source": [
    "Change this to point to your data folder as in the previous tutorial:"
   ]
  },
  {
   "cell_type": "code",
   "execution_count": null,
   "id": "exciting-portal",
   "metadata": {},
   "outputs": [],
   "source": [
    "data_folder = \"../data\""
   ]
  },
  {
   "cell_type": "code",
   "execution_count": null,
   "id": "dedicated-wyoming",
   "metadata": {},
   "outputs": [],
   "source": [
    "def read_file_without_warnings(path, **kwd):\n",
    "    with warnings.catch_warnings():\n",
    "        warnings.simplefilter(\"ignore\")\n",
    "        data = gpd.read_file(path, **kwd)\n",
    "    return data"
   ]
  },
  {
   "cell_type": "markdown",
   "id": "hindu-orleans",
   "metadata": {},
   "source": [
    "## 1. Load risk results"
   ]
  },
  {
   "cell_type": "markdown",
   "id": "professional-plain",
   "metadata": {},
   "source": [
    "Read in regions:"
   ]
  },
  {
   "cell_type": "code",
   "execution_count": null,
   "id": "essential-translation",
   "metadata": {},
   "outputs": [],
   "source": [
    "regions = gpd.read_file(\n",
    "    os.path.join(\n",
    "        data_folder, \n",
    "        'gha_admbnda_gss_20210308_shp', \n",
    "        'gha_admbnda_gss_20210308_SHP',\n",
    "        'gha_admbnda_adm1_gss_20210308.shp')) \\\n",
    "    [['ADM1_PCODE', 'ADM1_EN', 'geometry']]"
   ]
  },
  {
   "cell_type": "markdown",
   "id": "specific-failure",
   "metadata": {},
   "source": [
    "Read in roads, join regions:"
   ]
  },
  {
   "cell_type": "code",
   "execution_count": null,
   "id": "wired-solomon",
   "metadata": {},
   "outputs": [],
   "source": [
    "roads = read_file_without_warnings(\n",
    "    os.path.join(data_folder, 'GHA_OSM_roads.gpkg'),\n",
    "    layer='edges')\n",
    "roads = gpd.sjoin(roads, regions) \\\n",
    "    .drop(columns='index_right')"
   ]
  },
  {
   "cell_type": "markdown",
   "id": "surprising-vision",
   "metadata": {},
   "source": [
    "Read in exposure, join regions:"
   ]
  },
  {
   "cell_type": "code",
   "execution_count": null,
   "id": "economic-technical",
   "metadata": {},
   "outputs": [],
   "source": [
    "exposure = read_file_without_warnings(\n",
    "    os.path.join(data_folder, 'results/flood_exposure.gpkg'))\n",
    "exposure = gpd.sjoin(exposure, regions) \\\n",
    "    .drop(columns='index_right')"
   ]
  },
  {
   "cell_type": "code",
   "execution_count": null,
   "id": "composed-objective",
   "metadata": {},
   "outputs": [],
   "source": [
    "exposure.columns"
   ]
  },
  {
   "cell_type": "markdown",
   "id": "prime-perception",
   "metadata": {},
   "source": [
    "## 2. Introduce adaptation options"
   ]
  },
  {
   "cell_type": "markdown",
   "id": "wrong-ferry",
   "metadata": {},
   "source": [
    "Introduce costs of road upgrade options.\n",
    "\n",
    "These costs are derived from the World Bank ROCKS database, simplified and with climate resilience cost uplifts applied. They represent upgrade to a bituminous or concrete road design, with a single-lane design for currently-unpaved roads.\n",
    "\n",
    "As before with cost estimates, the analysis is likely to be highly sensitive to these assumptions, which should be replaced by better estimates if available."
   ]
  },
  {
   "cell_type": "code",
   "execution_count": null,
   "id": "furnished-closer",
   "metadata": {},
   "outputs": [],
   "source": [
    "options = pd.DataFrame({\n",
    "    'kind':            ['paved_four_lane', 'paved_two_lane', 'unpaved'],\n",
    "    'initial_cost_usd_per_km': [ 3_580_000,         1_290_000,        645_000 ]\n",
    "})\n",
    "routine_maintenance = 294_000\n",
    "periodic_maintenance = 346_000\n",
    "options"
   ]
  },
  {
   "cell_type": "markdown",
   "id": "quantitative-torture",
   "metadata": {},
   "source": [
    "## 3. Estimate costs and benefits"
   ]
  },
  {
   "cell_type": "code",
   "execution_count": null,
   "id": "indoor-digit",
   "metadata": {},
   "outputs": [],
   "source": [
    "duration_list = np.arange(10,110,10)\n",
    "discount_rate = 12\n",
    "growth_rates = np.arange(-2,4,0.2)\n",
    "\n",
    "const discount_rate = 0.12;\n",
    "const start_year = 2016;\n",
    "const end_year = 2050;\n",
    "\n",
    "# const years_from_start = Array.from(\n",
    "# Array(end_year - start_year).keys()\n",
    "# )\n",
    "\n",
    "# const discount_rate_norms = years_from_start.map(\n",
    "# year => 1.0 / Math.pow(1.0 + discount_rate, year)\n",
    "# )\n",
    "# const discount_rate_norm = discount_rate_norms.reduce((a, b) => a + b, 0)"
   ]
  },
  {
   "cell_type": "code",
   "execution_count": null,
   "id": "paperback-neighbor",
   "metadata": {},
   "outputs": [],
   "source": [
    "ead * discount_norm"
   ]
  },
  {
   "cell_type": "code",
   "execution_count": null,
   "id": "accepted-charger",
   "metadata": {},
   "outputs": [],
   "source": []
  }
 ],
 "metadata": {
  "kernelspec": {
   "display_name": "Python 3",
   "language": "python",
   "name": "python3"
  },
  "language_info": {
   "codemirror_mode": {
    "name": "ipython",
    "version": 3
   },
   "file_extension": ".py",
   "mimetype": "text/x-python",
   "name": "python",
   "nbconvert_exporter": "python",
   "pygments_lexer": "ipython3",
   "version": "3.7.10"
  }
 },
 "nbformat": 4,
 "nbformat_minor": 5
}
