{
 "cells": [
  {
   "attachments": {},
   "cell_type": "markdown",
   "metadata": {},
   "source": [
    "# Data preparation and infrastructure exposure to flooding\n",
    "\n",
    "This notebook forms the basis of \"Hands-On 5\" in the CCG course.\n",
    "\n",
    "1. Extract infrastructure data from OpenStreetMap\n",
    "2. Extract flood hazard data from Aqueduct\n",
    "3. Intersect floods with roads to calculate exposure\n",
    "4. Open QGIS to look at the data"
   ]
  },
  {
   "cell_type": "code",
   "execution_count": 1,
   "metadata": {},
   "outputs": [],
   "source": [
    "# The os and subprocess modules are built into Python\n",
    "# see https://docs.python.org/3/library/os.html\n",
    "import os\n",
    "\n",
    "# see https://docs.python.org/3/library/subprocess.html\n",
    "import subprocess\n",
    "\n",
    "# see https://docs.python.org/3/library/time.html\n",
    "import time\n",
    "\n",
    "# see https://docs.python.org/3/library/pathlib.html\n",
    "from pathlib import Path"
   ]
  },
  {
   "attachments": {},
   "cell_type": "markdown",
   "metadata": {},
   "source": [
    "## Activity 1: Extract infrastructure data\n",
    "\n",
    "### Step 1) On your desktop, create a folder called `ghana_tutorial`\n",
    "\n",
    "### Step 2) Create a variable to store the folder location\n",
    "\n",
    "In the cell below, type in the path to your desktop, by changing NAME to match your username as shown on your computer"
   ]
  },
  {
   "cell_type": "code",
   "execution_count": 2,
   "metadata": {},
   "outputs": [],
   "source": [
    "# edit this if using a Mac (otherwise delete)\n",
    "data_folder = Path(\"/Users/NAME/Desktop/ghana_tutorial\")\n",
    "\n",
    "# edit this if using Windows (otherwise delete)\n",
    "data_folder = Path(\"C:/Users/NAME/Desktop/ghana_tutorial\")\n",
    "\n",
    "# delete this line\n",
    "data_folder = Path(\"../data\")"
   ]
  },
  {
   "attachments": {},
   "cell_type": "markdown",
   "metadata": {},
   "source": [
    "### Step 3) Load Python libraries"
   ]
  },
  {
   "cell_type": "code",
   "execution_count": 3,
   "metadata": {},
   "outputs": [],
   "source": [
    "# Pandas and GeoPandas are libraries for working with datasets\n",
    "# see https://geopandas.org/\n",
    "import geopandas as gpd\n",
    "\n",
    "gpd._compat.USE_PYGEOS = False\n",
    "# see https://pandas.pydata.org/\n",
    "import pandas as pd\n",
    "\n",
    "# This package interacts with a risk data extract service, also accessible at\n",
    "# https://global.infrastructureresilience.org/downloads\n",
    "import irv_autopkg_client\n",
    "\n",
    "# We'll use snail to intersect roads with flooding\n",
    "import snail.intersection\n",
    "import snail.io\n",
    "\n",
    "# snkit helps generate connected networks from lines and nodes\n",
    "# see https://snkit.readthedocs.io/\n",
    "import snkit\n",
    "import snkit.network\n",
    "\n",
    "# PyPROJ is a library for working with geographic projections\n",
    "# see https://pyproj4.github.io/\n",
    "from pyproj import Geod"
   ]
  },
  {
   "attachments": {},
   "cell_type": "markdown",
   "metadata": {},
   "source": [
    "### Step 4) and 5) Download and save data"
   ]
  },
  {
   "attachments": {},
   "cell_type": "markdown",
   "metadata": {},
   "source": [
    "Download the `ghana-latest-free.shp.zip` dataset from http://download.geofabrik.de/africa/ghana.html, extract the zip folder and save the extracted folder within your new folder `ghana_tutorial`"
   ]
  },
  {
   "attachments": {},
   "cell_type": "markdown",
   "metadata": {},
   "source": [
    "### Step 6) Load the road dataset you've just downloaded"
   ]
  },
  {
   "cell_type": "code",
   "execution_count": 4,
   "metadata": {},
   "outputs": [],
   "source": [
    "roads = gpd.read_file(\n",
    "    data_folder / \"ghana-latest-free.shp\" / \"gis_osm_roads_free_1.shp\"\n",
    ")"
   ]
  },
  {
   "attachments": {},
   "cell_type": "markdown",
   "metadata": {},
   "source": [
    "### Step 7) To take a look at the data and the attribute table fill in and run the next two cells"
   ]
  },
  {
   "cell_type": "code",
   "execution_count": 5,
   "metadata": {},
   "outputs": [
    {
     "data": {
      "text/html": [
       "<div>\n",
       "<style scoped>\n",
       "    .dataframe tbody tr th:only-of-type {\n",
       "        vertical-align: middle;\n",
       "    }\n",
       "\n",
       "    .dataframe tbody tr th {\n",
       "        vertical-align: top;\n",
       "    }\n",
       "\n",
       "    .dataframe thead th {\n",
       "        text-align: right;\n",
       "    }\n",
       "</style>\n",
       "<table border=\"1\" class=\"dataframe\">\n",
       "  <thead>\n",
       "    <tr style=\"text-align: right;\">\n",
       "      <th></th>\n",
       "      <th>osm_id</th>\n",
       "      <th>code</th>\n",
       "      <th>fclass</th>\n",
       "      <th>name</th>\n",
       "      <th>ref</th>\n",
       "      <th>oneway</th>\n",
       "      <th>maxspeed</th>\n",
       "      <th>layer</th>\n",
       "      <th>bridge</th>\n",
       "      <th>tunnel</th>\n",
       "      <th>geometry</th>\n",
       "    </tr>\n",
       "  </thead>\n",
       "  <tbody>\n",
       "    <tr>\n",
       "      <th>0</th>\n",
       "      <td>4790591</td>\n",
       "      <td>5121</td>\n",
       "      <td>unclassified</td>\n",
       "      <td>Airport Road</td>\n",
       "      <td>NaN</td>\n",
       "      <td>B</td>\n",
       "      <td>0</td>\n",
       "      <td>0</td>\n",
       "      <td>F</td>\n",
       "      <td>F</td>\n",
       "      <td>LINESTRING (-0.17184 5.60847, -0.17182 5.60849...</td>\n",
       "    </tr>\n",
       "    <tr>\n",
       "      <th>1</th>\n",
       "      <td>4790592</td>\n",
       "      <td>5122</td>\n",
       "      <td>residential</td>\n",
       "      <td>Nortei Ababio Road</td>\n",
       "      <td>NaN</td>\n",
       "      <td>B</td>\n",
       "      <td>0</td>\n",
       "      <td>0</td>\n",
       "      <td>F</td>\n",
       "      <td>F</td>\n",
       "      <td>LINESTRING (-0.18282 5.61197, -0.18336 5.61198...</td>\n",
       "    </tr>\n",
       "    <tr>\n",
       "      <th>2</th>\n",
       "      <td>4790594</td>\n",
       "      <td>5115</td>\n",
       "      <td>tertiary</td>\n",
       "      <td>Airport Road</td>\n",
       "      <td>NaN</td>\n",
       "      <td>F</td>\n",
       "      <td>0</td>\n",
       "      <td>0</td>\n",
       "      <td>F</td>\n",
       "      <td>F</td>\n",
       "      <td>LINESTRING (-0.17544 5.60550, -0.17418 5.60555...</td>\n",
       "    </tr>\n",
       "    <tr>\n",
       "      <th>3</th>\n",
       "      <td>4790596</td>\n",
       "      <td>5121</td>\n",
       "      <td>unclassified</td>\n",
       "      <td>Airport Road</td>\n",
       "      <td>NaN</td>\n",
       "      <td>F</td>\n",
       "      <td>0</td>\n",
       "      <td>0</td>\n",
       "      <td>F</td>\n",
       "      <td>F</td>\n",
       "      <td>LINESTRING (-0.17207 5.60853, -0.17207 5.60844...</td>\n",
       "    </tr>\n",
       "    <tr>\n",
       "      <th>4</th>\n",
       "      <td>4790597</td>\n",
       "      <td>5122</td>\n",
       "      <td>residential</td>\n",
       "      <td>Volta Road</td>\n",
       "      <td>NaN</td>\n",
       "      <td>B</td>\n",
       "      <td>0</td>\n",
       "      <td>0</td>\n",
       "      <td>F</td>\n",
       "      <td>F</td>\n",
       "      <td>LINESTRING (-0.18282 5.61197, -0.18280 5.61262...</td>\n",
       "    </tr>\n",
       "    <tr>\n",
       "      <th>...</th>\n",
       "      <td>...</td>\n",
       "      <td>...</td>\n",
       "      <td>...</td>\n",
       "      <td>...</td>\n",
       "      <td>...</td>\n",
       "      <td>...</td>\n",
       "      <td>...</td>\n",
       "      <td>...</td>\n",
       "      <td>...</td>\n",
       "      <td>...</td>\n",
       "      <td>...</td>\n",
       "    </tr>\n",
       "    <tr>\n",
       "      <th>338073</th>\n",
       "      <td>1182192627</td>\n",
       "      <td>5141</td>\n",
       "      <td>service</td>\n",
       "      <td>NaN</td>\n",
       "      <td>NaN</td>\n",
       "      <td>B</td>\n",
       "      <td>0</td>\n",
       "      <td>0</td>\n",
       "      <td>F</td>\n",
       "      <td>F</td>\n",
       "      <td>LINESTRING (-0.17508 5.71756, -0.17511 5.71756...</td>\n",
       "    </tr>\n",
       "    <tr>\n",
       "      <th>338074</th>\n",
       "      <td>1182192628</td>\n",
       "      <td>5141</td>\n",
       "      <td>service</td>\n",
       "      <td>NaN</td>\n",
       "      <td>NaN</td>\n",
       "      <td>B</td>\n",
       "      <td>0</td>\n",
       "      <td>0</td>\n",
       "      <td>F</td>\n",
       "      <td>F</td>\n",
       "      <td>LINESTRING (-0.17501 5.71759, -0.17508 5.71756)</td>\n",
       "    </tr>\n",
       "    <tr>\n",
       "      <th>338075</th>\n",
       "      <td>1182192629</td>\n",
       "      <td>5141</td>\n",
       "      <td>service</td>\n",
       "      <td>NaN</td>\n",
       "      <td>NaN</td>\n",
       "      <td>B</td>\n",
       "      <td>0</td>\n",
       "      <td>0</td>\n",
       "      <td>F</td>\n",
       "      <td>F</td>\n",
       "      <td>LINESTRING (-0.17506 5.71778, -0.17500 5.71764...</td>\n",
       "    </tr>\n",
       "    <tr>\n",
       "      <th>338076</th>\n",
       "      <td>1182207852</td>\n",
       "      <td>5114</td>\n",
       "      <td>secondary</td>\n",
       "      <td>Education Ridge Road</td>\n",
       "      <td>R92</td>\n",
       "      <td>B</td>\n",
       "      <td>0</td>\n",
       "      <td>0</td>\n",
       "      <td>F</td>\n",
       "      <td>F</td>\n",
       "      <td>LINESTRING (-0.97456 9.56428, -0.97542 9.56413...</td>\n",
       "    </tr>\n",
       "    <tr>\n",
       "      <th>338077</th>\n",
       "      <td>1182207853</td>\n",
       "      <td>5114</td>\n",
       "      <td>secondary</td>\n",
       "      <td>Bontanga - Dalung Road</td>\n",
       "      <td>R92</td>\n",
       "      <td>B</td>\n",
       "      <td>0</td>\n",
       "      <td>0</td>\n",
       "      <td>F</td>\n",
       "      <td>F</td>\n",
       "      <td>LINESTRING (-0.99413 9.58079, -0.99425 9.58107...</td>\n",
       "    </tr>\n",
       "  </tbody>\n",
       "</table>\n",
       "<p>338078 rows × 11 columns</p>\n",
       "</div>"
      ],
      "text/plain": [
       "            osm_id  code        fclass                    name  ref oneway  \\\n",
       "0          4790591  5121  unclassified            Airport Road  NaN      B   \n",
       "1          4790592  5122   residential      Nortei Ababio Road  NaN      B   \n",
       "2          4790594  5115      tertiary            Airport Road  NaN      F   \n",
       "3          4790596  5121  unclassified            Airport Road  NaN      F   \n",
       "4          4790597  5122   residential              Volta Road  NaN      B   \n",
       "...            ...   ...           ...                     ...  ...    ...   \n",
       "338073  1182192627  5141       service                     NaN  NaN      B   \n",
       "338074  1182192628  5141       service                     NaN  NaN      B   \n",
       "338075  1182192629  5141       service                     NaN  NaN      B   \n",
       "338076  1182207852  5114     secondary    Education Ridge Road  R92      B   \n",
       "338077  1182207853  5114     secondary  Bontanga - Dalung Road  R92      B   \n",
       "\n",
       "        maxspeed  layer bridge tunnel  \\\n",
       "0              0      0      F      F   \n",
       "1              0      0      F      F   \n",
       "2              0      0      F      F   \n",
       "3              0      0      F      F   \n",
       "4              0      0      F      F   \n",
       "...          ...    ...    ...    ...   \n",
       "338073         0      0      F      F   \n",
       "338074         0      0      F      F   \n",
       "338075         0      0      F      F   \n",
       "338076         0      0      F      F   \n",
       "338077         0      0      F      F   \n",
       "\n",
       "                                                 geometry  \n",
       "0       LINESTRING (-0.17184 5.60847, -0.17182 5.60849...  \n",
       "1       LINESTRING (-0.18282 5.61197, -0.18336 5.61198...  \n",
       "2       LINESTRING (-0.17544 5.60550, -0.17418 5.60555...  \n",
       "3       LINESTRING (-0.17207 5.60853, -0.17207 5.60844...  \n",
       "4       LINESTRING (-0.18282 5.61197, -0.18280 5.61262...  \n",
       "...                                                   ...  \n",
       "338073  LINESTRING (-0.17508 5.71756, -0.17511 5.71756...  \n",
       "338074    LINESTRING (-0.17501 5.71759, -0.17508 5.71756)  \n",
       "338075  LINESTRING (-0.17506 5.71778, -0.17500 5.71764...  \n",
       "338076  LINESTRING (-0.97456 9.56428, -0.97542 9.56413...  \n",
       "338077  LINESTRING (-0.99413 9.58079, -0.99425 9.58107...  \n",
       "\n",
       "[338078 rows x 11 columns]"
      ]
     },
     "execution_count": 5,
     "metadata": {},
     "output_type": "execute_result"
    }
   ],
   "source": [
    "roads"
   ]
  },
  {
   "cell_type": "code",
   "execution_count": 6,
   "metadata": {},
   "outputs": [
    {
     "data": {
      "text/plain": [
       "array(['unclassified', 'residential', 'tertiary', 'tertiary_link',\n",
       "       'secondary', 'trunk', 'service', 'primary', 'trunk_link',\n",
       "       'primary_link', 'secondary_link', 'footway', 'path', 'track',\n",
       "       'motorway', 'track_grade3', 'track_grade4', 'motorway_link',\n",
       "       'steps', 'pedestrian', 'bridleway', 'cycleway', 'track_grade2',\n",
       "       'track_grade5', 'track_grade1', 'living_street'], dtype=object)"
      ]
     },
     "execution_count": 6,
     "metadata": {},
     "output_type": "execute_result"
    }
   ],
   "source": [
    "roads.fclass.unique()"
   ]
  },
  {
   "attachments": {},
   "cell_type": "markdown",
   "metadata": {},
   "source": [
    "### Step 8) Next we want to make a couple of changes to the data"
   ]
  },
  {
   "attachments": {},
   "cell_type": "markdown",
   "metadata": {},
   "source": [
    "Filter out minor and residential roads, tracks and paths."
   ]
  },
  {
   "cell_type": "code",
   "execution_count": 7,
   "metadata": {},
   "outputs": [],
   "source": [
    "# Keep only the specified columns\n",
    "roads = roads[[\"osm_id\", \"fclass\", \"name\", \"geometry\"]]\n",
    "# Keep only the roads whose \"fclass\" is in the list\n",
    "roads = roads[\n",
    "    roads.fclass.isin(\n",
    "        [\n",
    "            \"motorway\",\n",
    "            \"motorway_link\",\n",
    "            \"trunk\",\n",
    "            \"trunk_link\",\n",
    "            \"primary\",\n",
    "            \"primary_link\",\n",
    "            \"secondary\",\n",
    "            \"secondary_link\",\n",
    "            \"tertiary\",\n",
    "            \"tertiary_link\",\n",
    "        ]\n",
    "    )\n",
    "]\n",
    "# Rename some columns\n",
    "roads = roads.rename(\n",
    "    columns={\n",
    "        \"fclass\": \"road_type\",\n",
    "    }\n",
    ")"
   ]
  },
  {
   "attachments": {},
   "cell_type": "markdown",
   "metadata": {},
   "source": [
    "Create topological network information - this adds information that will let us find routes over the road network.\n",
    "- add nodes at the start and end of each road segment\n",
    "- split roads at junctions, so each segment goes from junction to junction\n",
    "- add ids to each node and edge, and add `from_id` and `to_id` to each edge"
   ]
  },
  {
   "cell_type": "code",
   "execution_count": 8,
   "metadata": {},
   "outputs": [],
   "source": [
    "road_network = snkit.Network(edges=roads)"
   ]
  },
  {
   "cell_type": "code",
   "execution_count": 9,
   "metadata": {},
   "outputs": [],
   "source": [
    "with_endpoints = snkit.network.add_endpoints(road_network)\n",
    "split_edges = snkit.network.split_edges_at_nodes(with_endpoints)\n",
    "with_ids = snkit.network.add_ids(\n",
    "    split_edges, id_col=\"id\", edge_prefix=\"roade\", node_prefix=\"roadn\"\n",
    ")\n",
    "connected = snkit.network.add_topology(with_ids)\n",
    "roads = connected.edges\n",
    "road_nodes = connected.nodes"
   ]
  },
  {
   "attachments": {},
   "cell_type": "markdown",
   "metadata": {},
   "source": [
    "Calculate the length of each road segment in meters"
   ]
  },
  {
   "cell_type": "code",
   "execution_count": 10,
   "metadata": {},
   "outputs": [],
   "source": [
    "geod = Geod(ellps=\"WGS84\")\n",
    "roads[\"length_m\"] = roads.geometry.apply(geod.geometry_length)"
   ]
  },
  {
   "cell_type": "code",
   "execution_count": 11,
   "metadata": {},
   "outputs": [
    {
     "data": {
      "text/html": [
       "<div>\n",
       "<style scoped>\n",
       "    .dataframe tbody tr th:only-of-type {\n",
       "        vertical-align: middle;\n",
       "    }\n",
       "\n",
       "    .dataframe tbody tr th {\n",
       "        vertical-align: top;\n",
       "    }\n",
       "\n",
       "    .dataframe thead th {\n",
       "        text-align: right;\n",
       "    }\n",
       "</style>\n",
       "<table border=\"1\" class=\"dataframe\">\n",
       "  <thead>\n",
       "    <tr style=\"text-align: right;\">\n",
       "      <th></th>\n",
       "      <th>osm_id</th>\n",
       "      <th>road_type</th>\n",
       "      <th>name</th>\n",
       "      <th>geometry</th>\n",
       "      <th>id</th>\n",
       "      <th>from_id</th>\n",
       "      <th>to_id</th>\n",
       "      <th>length_m</th>\n",
       "    </tr>\n",
       "  </thead>\n",
       "  <tbody>\n",
       "    <tr>\n",
       "      <th>15684</th>\n",
       "      <td>1181982913</td>\n",
       "      <td>secondary</td>\n",
       "      <td>Kumbungu-Zangbalung road</td>\n",
       "      <td>LINESTRING (-0.95804 9.56291, -0.95811 9.56294...</td>\n",
       "      <td>roade_15684</td>\n",
       "      <td>roadn_12219</td>\n",
       "      <td>roadn_12220</td>\n",
       "      <td>1870.991174</td>\n",
       "    </tr>\n",
       "    <tr>\n",
       "      <th>15685</th>\n",
       "      <td>1182141809</td>\n",
       "      <td>secondary_link</td>\n",
       "      <td>NaN</td>\n",
       "      <td>LINESTRING (-1.59420 6.65761, -1.59426 6.65768...</td>\n",
       "      <td>roade_15685</td>\n",
       "      <td>roadn_12221</td>\n",
       "      <td>roadn_12216</td>\n",
       "      <td>47.244512</td>\n",
       "    </tr>\n",
       "    <tr>\n",
       "      <th>15686</th>\n",
       "      <td>1182207852</td>\n",
       "      <td>secondary</td>\n",
       "      <td>Education Ridge Road</td>\n",
       "      <td>LINESTRING (-0.97456 9.56428, -0.97542 9.56413...</td>\n",
       "      <td>roade_15686</td>\n",
       "      <td>roadn_12220</td>\n",
       "      <td>roadn_8005</td>\n",
       "      <td>2242.279664</td>\n",
       "    </tr>\n",
       "    <tr>\n",
       "      <th>15687</th>\n",
       "      <td>1182207852</td>\n",
       "      <td>secondary</td>\n",
       "      <td>Education Ridge Road</td>\n",
       "      <td>LINESTRING (-0.99028 9.57190, -0.99202 9.57587...</td>\n",
       "      <td>roade_15687</td>\n",
       "      <td>roadn_8005</td>\n",
       "      <td>roadn_12222</td>\n",
       "      <td>1069.950243</td>\n",
       "    </tr>\n",
       "    <tr>\n",
       "      <th>15688</th>\n",
       "      <td>1182207853</td>\n",
       "      <td>secondary</td>\n",
       "      <td>Bontanga - Dalung Road</td>\n",
       "      <td>LINESTRING (-0.99413 9.58079, -0.99425 9.58107...</td>\n",
       "      <td>roade_15688</td>\n",
       "      <td>roadn_12222</td>\n",
       "      <td>roadn_8006</td>\n",
       "      <td>6604.650117</td>\n",
       "    </tr>\n",
       "  </tbody>\n",
       "</table>\n",
       "</div>"
      ],
      "text/plain": [
       "           osm_id       road_type                      name  \\\n",
       "15684  1181982913       secondary  Kumbungu-Zangbalung road   \n",
       "15685  1182141809  secondary_link                       NaN   \n",
       "15686  1182207852       secondary      Education Ridge Road   \n",
       "15687  1182207852       secondary      Education Ridge Road   \n",
       "15688  1182207853       secondary    Bontanga - Dalung Road   \n",
       "\n",
       "                                                geometry           id  \\\n",
       "15684  LINESTRING (-0.95804 9.56291, -0.95811 9.56294...  roade_15684   \n",
       "15685  LINESTRING (-1.59420 6.65761, -1.59426 6.65768...  roade_15685   \n",
       "15686  LINESTRING (-0.97456 9.56428, -0.97542 9.56413...  roade_15686   \n",
       "15687  LINESTRING (-0.99028 9.57190, -0.99202 9.57587...  roade_15687   \n",
       "15688  LINESTRING (-0.99413 9.58079, -0.99425 9.58107...  roade_15688   \n",
       "\n",
       "           from_id        to_id     length_m  \n",
       "15684  roadn_12219  roadn_12220  1870.991174  \n",
       "15685  roadn_12221  roadn_12216    47.244512  \n",
       "15686  roadn_12220   roadn_8005  2242.279664  \n",
       "15687   roadn_8005  roadn_12222  1069.950243  \n",
       "15688  roadn_12222   roadn_8006  6604.650117  "
      ]
     },
     "execution_count": 11,
     "metadata": {},
     "output_type": "execute_result"
    }
   ],
   "source": [
    "roads.tail()"
   ]
  },
  {
   "cell_type": "code",
   "execution_count": 12,
   "metadata": {},
   "outputs": [
    {
     "data": {
      "text/plain": [
       "<Geographic 2D CRS: EPSG:4326>\n",
       "Name: WGS 84\n",
       "Axis Info [ellipsoidal]:\n",
       "- Lat[north]: Geodetic latitude (degree)\n",
       "- Lon[east]: Geodetic longitude (degree)\n",
       "Area of Use:\n",
       "- name: World.\n",
       "- bounds: (-180.0, -90.0, 180.0, 90.0)\n",
       "Datum: World Geodetic System 1984 ensemble\n",
       "- Ellipsoid: WGS 84\n",
       "- Prime Meridian: Greenwich"
      ]
     },
     "execution_count": 12,
     "metadata": {},
     "output_type": "execute_result"
    }
   ],
   "source": [
    "roads.set_crs(4326, inplace=True)\n",
    "road_nodes.set_crs(4326, inplace=True)\n",
    "road_nodes.crs"
   ]
  },
  {
   "attachments": {},
   "cell_type": "markdown",
   "metadata": {},
   "source": [
    "### Step 9) Save the pre-processed dataset"
   ]
  },
  {
   "cell_type": "code",
   "execution_count": 13,
   "metadata": {},
   "outputs": [],
   "source": [
    "roads.to_file(\n",
    "    data_folder / \"GHA_OSM_roads.gpkg\",\n",
    "    layer=\"edges\",\n",
    "    driver=\"GPKG\",\n",
    ")\n",
    "road_nodes.to_file(\n",
    "    data_folder / \"GHA_OSM_roads.gpkg\",\n",
    "    layer=\"nodes\",\n",
    "    driver=\"GPKG\",\n",
    ")"
   ]
  },
  {
   "attachments": {},
   "cell_type": "markdown",
   "metadata": {},
   "source": [
    "## Activity 2: Extract hazard data"
   ]
  },
  {
   "attachments": {},
   "cell_type": "markdown",
   "metadata": {},
   "source": [
    "The full [Aqueduct dataset](https://www.wri.org/resources/data-sets/aqueduct-floods-hazard-maps) is available to download openly. \n",
    "\n",
    "Country-level extracts are available through the [Global Systemic Risk Assessment Tool (G-SRAT)](https://global.infrastructureresilience.org/downloads/). This section uses that service to download an extract for Ghana."
   ]
  },
  {
   "cell_type": "code",
   "execution_count": 14,
   "metadata": {},
   "outputs": [],
   "source": [
    "country_iso = \"gha\""
   ]
  },
  {
   "attachments": {},
   "cell_type": "markdown",
   "metadata": {},
   "source": [
    "Create a client to connect to the data API:"
   ]
  },
  {
   "cell_type": "code",
   "execution_count": 15,
   "metadata": {},
   "outputs": [],
   "source": [
    "client = irv_autopkg_client.Client()"
   ]
  },
  {
   "cell_type": "code",
   "execution_count": 16,
   "metadata": {},
   "outputs": [],
   "source": [
    "job_id = client.job_submit(country_iso, [\"wri_aqueduct.version_2\"])"
   ]
  },
  {
   "cell_type": "code",
   "execution_count": 17,
   "metadata": {},
   "outputs": [
    {
     "name": "stdout",
     "output_type": "stream",
     "text": [
      "Processing...\n"
     ]
    }
   ],
   "source": [
    "while not client.job_complete(job_id):\n",
    "    print(\"Processing...\")\n",
    "    time.sleep(1)"
   ]
  },
  {
   "cell_type": "code",
   "execution_count": 18,
   "metadata": {},
   "outputs": [],
   "source": [
    "client.extract_download(\n",
    "    country_iso,\n",
    "    data_folder / \"flood_layer\",\n",
    "    # there may be other datasets available, but only download the following\n",
    "    dataset_filter=[\"wri_aqueduct.version_2\"],\n",
    "    overwrite=True,\n",
    ")"
   ]
  },
  {
   "attachments": {},
   "cell_type": "markdown",
   "metadata": {},
   "source": [
    "### Alternative: download flood hazard data from Aqueduct"
   ]
  },
  {
   "attachments": {},
   "cell_type": "markdown",
   "metadata": {},
   "source": [
    "The full [Aqueduct dataset](https://www.wri.org/resources/data-sets/aqueduct-floods-hazard-maps) is available to download. There are some scripts and summary of the data you may find useful at [nismod/aqueduct](https://github.com/nismod/aqueduct).\n",
    "\n",
    "There are almost 700 files in the full Aqueduct dataset, of up to around 100MB each, so we don't recommend downloading all of them unless you intend to do further analysis.\n",
    "\n",
    "The next steps show how to clip a region out of the global dataset, in case you prefer to work from the original global Aqueduct files.\n",
    "\n",
    "To follow this step, we suggest downloading [inunriver_historical_000000000WATCH_1980_rp00100.tif](http://wri-projects.s3.amazonaws.com/AqueductFloodTool/download/v2/inunriver_historical_000000000WATCH_1980_rp00100.tif) to work through the next steps. Save the downloaded file in a new folder titled `flood_layer` under your data_folder."
   ]
  },
  {
   "cell_type": "code",
   "execution_count": 19,
   "metadata": {},
   "outputs": [
    {
     "name": "stdout",
     "output_type": "stream",
     "text": [
      "Looking in ../data/flood_layer\n",
      "Found tif file inunriver_historical_000000000WATCH_1980_rp00100.tif\n",
      "['gdalwarp', '-te', '-3.262509', '4.737128', '1.187968', '11.162937', '../data/flood_layer/inunriver_historical_000000000WATCH_1980_rp00100.tif', '../data/flood_layer/gha/wri_aqueduct_version_2/inunriver_historical_000000000WATCH_1980_rp00100-gha.tif']\n",
      "Creating output file that is 534P x 771L.\n",
      "Processing ../data/flood_layer/inunriver_historical_000000000WATCH_1980_rp00100.tif [1/1] : 0Using internal nodata values (e.g. -9999) for image ../data/flood_layer/inunriver_historical_000000000WATCH_1980_rp00100.tif.\n",
      "Copying nodata values from source ../data/flood_layer/inunriver_historical_000000000WATCH_1980_rp00100.tif to destination ../data/flood_layer/gha/wri_aqueduct_version_2/inunriver_historical_000000000WATCH_1980_rp00100-gha.tif.\n",
      "...10...20...30...40...50...60...70...80...90...100 - done.\n",
      "\n",
      "\n",
      "../data/flood_layer/gha/wri_aqueduct_version_2/inunriver_historical_000000000WATCH_1980_rp00100-gha.tif\n",
      "Looking in ../data/flood_layer/gha\n",
      "Looking in ../data/flood_layer/gha/wri_aqueduct_version_2\n"
     ]
    }
   ],
   "source": [
    "xmin = \"-3.262509\"\n",
    "ymin = \"4.737128\"\n",
    "xmax = \"1.187968\"\n",
    "ymax = \"11.162937\"\n",
    "\n",
    "for root, dirs, files in os.walk(os.path.join(data_folder, \"flood_layer\")):\n",
    "    print(\"Looking in\", root)\n",
    "    for file_ in sorted(files):\n",
    "        if file_.endswith(\".tif\") and not file_.endswith(\n",
    "            f\"-{country_iso}.tif\"\n",
    "        ):\n",
    "            print(\"Found tif file\", file_)\n",
    "            stem = file_[:-4]\n",
    "            input_file = os.path.join(root, file_)\n",
    "\n",
    "            # Clip file to bounds\n",
    "            clip_file = os.path.join(\n",
    "                root,\n",
    "                \"gha\",\n",
    "                \"wri_aqueduct_version_2\",\n",
    "                f\"{stem}-{country_iso}.tif\",\n",
    "            )\n",
    "            try:\n",
    "                os.remove(clip_file)\n",
    "            except FileNotFoundError:\n",
    "                pass\n",
    "            cmd = [\n",
    "                \"gdalwarp\",\n",
    "                \"-te\",\n",
    "                xmin,\n",
    "                ymin,\n",
    "                xmax,\n",
    "                ymax,\n",
    "                input_file,\n",
    "                clip_file,\n",
    "            ]\n",
    "            print(cmd)\n",
    "            p = subprocess.run(cmd, capture_output=True)\n",
    "            print(p.stdout.decode(\"utf8\"))\n",
    "            print(p.stderr.decode(\"utf8\"))\n",
    "            print(clip_file)"
   ]
  },
  {
   "attachments": {},
   "cell_type": "markdown",
   "metadata": {},
   "source": [
    "## Activity 3: Intersect hazard "
   ]
  },
  {
   "attachments": {},
   "cell_type": "markdown",
   "metadata": {},
   "source": [
    "Let us now intersect the hazard and the roads, starting with one hazard initially so we save time."
   ]
  },
  {
   "attachments": {},
   "cell_type": "markdown",
   "metadata": {},
   "source": [
    "### Step 1) Specify your input and output path as well as the name of the intersection"
   ]
  },
  {
   "cell_type": "code",
   "execution_count": 24,
   "metadata": {},
   "outputs": [],
   "source": [
    "flood_path = Path(\n",
    "    data_folder,\n",
    "    \"flood_layer\",\n",
    "    \"gha\",\n",
    "    \"wri_aqueduct_version_2\",\n",
    "    \"inunriver_historical_000000000WATCH_1980_rp00100-gha.tif\",\n",
    ")\n",
    "\n",
    "output_path = Path(\n",
    "    data_folder,\n",
    "    \"results\",\n",
    "    \"inunriver_historical_000000000WATCH_1980_rp00100__roads_exposure.gpkg\",\n",
    ")"
   ]
  },
  {
   "attachments": {},
   "cell_type": "markdown",
   "metadata": {},
   "source": [
    "Read in pre-processed road edges, as created earlier."
   ]
  },
  {
   "cell_type": "code",
   "execution_count": 21,
   "metadata": {},
   "outputs": [],
   "source": [
    "roads = gpd.read_file(data_folder / \"GHA_OSM_roads.gpkg\", layer=\"edges\")"
   ]
  },
  {
   "attachments": {},
   "cell_type": "markdown",
   "metadata": {},
   "source": [
    "### Step 2) Run the intersection"
   ]
  },
  {
   "cell_type": "code",
   "execution_count": 27,
   "metadata": {},
   "outputs": [],
   "source": [
    "grid, bands = snail.io.read_raster_metadata(flood_path)\n",
    "\n",
    "prepared = snail.intersection.prepare_linestrings(roads)\n",
    "flood_intersections = snail.intersection.split_linestrings(prepared, grid)\n",
    "flood_intersections = snail.intersection.apply_indices(\n",
    "    flood_intersections, grid\n",
    ")\n",
    "flood_data = snail.io.read_raster_band_data(flood_path)\n",
    "flood_intersections[\n",
    "    \"inunriver__epoch_historical__rcp_baseline__rp_100\"\n",
    "] = snail.intersection.get_raster_values_for_splits(\n",
    "    flood_intersections, flood_data\n",
    ")"
   ]
  },
  {
   "attachments": {},
   "cell_type": "markdown",
   "metadata": {},
   "source": [
    "Calculate the exposed length"
   ]
  },
  {
   "cell_type": "code",
   "execution_count": 28,
   "metadata": {},
   "outputs": [],
   "source": [
    "geod = Geod(ellps=\"WGS84\")\n",
    "flood_intersections[\"flood_length_m\"] = flood_intersections.geometry.apply(\n",
    "    geod.geometry_length\n",
    ")"
   ]
  },
  {
   "cell_type": "code",
   "execution_count": 29,
   "metadata": {},
   "outputs": [
    {
     "data": {
      "text/html": [
       "<div>\n",
       "<style scoped>\n",
       "    .dataframe tbody tr th:only-of-type {\n",
       "        vertical-align: middle;\n",
       "    }\n",
       "\n",
       "    .dataframe tbody tr th {\n",
       "        vertical-align: top;\n",
       "    }\n",
       "\n",
       "    .dataframe thead th {\n",
       "        text-align: right;\n",
       "    }\n",
       "</style>\n",
       "<table border=\"1\" class=\"dataframe\">\n",
       "  <thead>\n",
       "    <tr style=\"text-align: right;\">\n",
       "      <th></th>\n",
       "      <th>osm_id</th>\n",
       "      <th>road_type</th>\n",
       "      <th>name</th>\n",
       "      <th>id</th>\n",
       "      <th>from_id</th>\n",
       "      <th>to_id</th>\n",
       "      <th>length_m</th>\n",
       "      <th>geometry</th>\n",
       "      <th>split</th>\n",
       "      <th>index_i</th>\n",
       "      <th>index_j</th>\n",
       "      <th>inunriver__epoch_historical__rcp_baseline__rp_100</th>\n",
       "      <th>flood_length_m</th>\n",
       "    </tr>\n",
       "  </thead>\n",
       "  <tbody>\n",
       "    <tr>\n",
       "      <th>15688</th>\n",
       "      <td>1182207853</td>\n",
       "      <td>secondary</td>\n",
       "      <td>Bontanga - Dalung Road</td>\n",
       "      <td>roade_15688</td>\n",
       "      <td>roadn_12222</td>\n",
       "      <td>roadn_8006</td>\n",
       "      <td>6604.650117</td>\n",
       "      <td>LINESTRING (-1.00963 9.62941, -1.01021 9.63122...</td>\n",
       "      <td>8</td>\n",
       "      <td>270</td>\n",
       "      <td>183</td>\n",
       "      <td>0.0</td>\n",
       "      <td>782.156843</td>\n",
       "    </tr>\n",
       "    <tr>\n",
       "      <th>15688</th>\n",
       "      <td>1182207853</td>\n",
       "      <td>secondary</td>\n",
       "      <td>Bontanga - Dalung Road</td>\n",
       "      <td>roade_15688</td>\n",
       "      <td>roadn_12222</td>\n",
       "      <td>roadn_8006</td>\n",
       "      <td>6604.650117</td>\n",
       "      <td>LINESTRING (-1.01227 9.63597, -1.01230 9.63605...</td>\n",
       "      <td>9</td>\n",
       "      <td>269</td>\n",
       "      <td>183</td>\n",
       "      <td>0.0</td>\n",
       "      <td>135.659825</td>\n",
       "    </tr>\n",
       "  </tbody>\n",
       "</table>\n",
       "</div>"
      ],
      "text/plain": [
       "           osm_id  road_type                    name           id  \\\n",
       "15688  1182207853  secondary  Bontanga - Dalung Road  roade_15688   \n",
       "15688  1182207853  secondary  Bontanga - Dalung Road  roade_15688   \n",
       "\n",
       "           from_id       to_id     length_m  \\\n",
       "15688  roadn_12222  roadn_8006  6604.650117   \n",
       "15688  roadn_12222  roadn_8006  6604.650117   \n",
       "\n",
       "                                                geometry  split  index_i  \\\n",
       "15688  LINESTRING (-1.00963 9.62941, -1.01021 9.63122...      8      270   \n",
       "15688  LINESTRING (-1.01227 9.63597, -1.01230 9.63605...      9      269   \n",
       "\n",
       "       index_j  inunriver__epoch_historical__rcp_baseline__rp_100  \\\n",
       "15688      183                                                0.0   \n",
       "15688      183                                                0.0   \n",
       "\n",
       "       flood_length_m  \n",
       "15688      782.156843  \n",
       "15688      135.659825  "
      ]
     },
     "execution_count": 29,
     "metadata": {},
     "output_type": "execute_result"
    }
   ],
   "source": [
    "flood_intersections.tail(2)"
   ]
  },
  {
   "attachments": {},
   "cell_type": "markdown",
   "metadata": {},
   "source": [
    "Calculate the proportion of roads in our dataset which are exposed to >=1m flood depths in this scenario"
   ]
  },
  {
   "cell_type": "code",
   "execution_count": 30,
   "metadata": {},
   "outputs": [
    {
     "data": {
      "text/plain": [
       "728.5879687723159"
      ]
     },
     "execution_count": 30,
     "metadata": {},
     "output_type": "execute_result"
    }
   ],
   "source": [
    "exposed_1m = flood_intersections[\n",
    "    flood_intersections.inunriver__epoch_historical__rcp_baseline__rp_100 >= 1\n",
    "]\n",
    "exposed_length_km = exposed_1m.flood_length_m.sum() * 1e-3\n",
    "exposed_length_km"
   ]
  },
  {
   "cell_type": "code",
   "execution_count": 31,
   "metadata": {},
   "outputs": [
    {
     "data": {
      "text/plain": [
       "29069.876011778793"
      ]
     },
     "execution_count": 31,
     "metadata": {},
     "output_type": "execute_result"
    }
   ],
   "source": [
    "all_roads_in_dataset_length_km = roads.length_m.sum() * 1e-3\n",
    "all_roads_in_dataset_length_km"
   ]
  },
  {
   "cell_type": "code",
   "execution_count": 32,
   "metadata": {},
   "outputs": [
    {
     "data": {
      "text/plain": [
       "0.025063332519103282"
      ]
     },
     "execution_count": 32,
     "metadata": {},
     "output_type": "execute_result"
    }
   ],
   "source": [
    "proportion = exposed_length_km / all_roads_in_dataset_length_km\n",
    "proportion"
   ]
  },
  {
   "cell_type": "code",
   "execution_count": 33,
   "metadata": {},
   "outputs": [
    {
     "data": {
      "text/plain": [
       "'2.5% of roads in this dataset are exposed to flood depths of >= 1m in a historical 1-in-100 year flood'"
      ]
     },
     "execution_count": 33,
     "metadata": {},
     "output_type": "execute_result"
    }
   ],
   "source": [
    "f\"{proportion:.1%} of roads in this dataset are exposed to flood depths of >= 1m in a historical 1-in-100 year flood\""
   ]
  },
  {
   "cell_type": "code",
   "execution_count": 34,
   "metadata": {},
   "outputs": [],
   "source": [
    "output_path.parent.mkdir(parents=True, exist_ok=True)"
   ]
  },
  {
   "attachments": {},
   "cell_type": "markdown",
   "metadata": {},
   "source": [
    "Save to file (with spatial data)"
   ]
  },
  {
   "cell_type": "code",
   "execution_count": 35,
   "metadata": {},
   "outputs": [],
   "source": [
    "flood_intersections.to_file(output_path, driver=\"GPKG\")"
   ]
  },
  {
   "attachments": {},
   "cell_type": "markdown",
   "metadata": {},
   "source": [
    "Save to CSV (without spatial data)"
   ]
  },
  {
   "cell_type": "code",
   "execution_count": 36,
   "metadata": {},
   "outputs": [],
   "source": [
    "flood_intersections.drop(columns=\"geometry\").to_csv(\n",
    "    output_path.parent / output_path.name.replace(\".gpkg\", \".csv\")\n",
    ")"
   ]
  }
 ],
 "metadata": {
  "kernelspec": {
   "display_name": "Python 3",
   "language": "python",
   "name": "python3"
  },
  "language_info": {
   "codemirror_mode": {
    "name": "ipython",
    "version": 3
   },
   "file_extension": ".py",
   "mimetype": "text/x-python",
   "name": "python",
   "nbconvert_exporter": "python",
   "pygments_lexer": "ipython3",
   "version": "3.11.4"
  }
 },
 "nbformat": 4,
 "nbformat_minor": 4
}
