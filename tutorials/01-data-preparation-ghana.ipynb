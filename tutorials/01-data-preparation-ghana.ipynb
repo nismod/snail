{
 "cells": [
  {
   "cell_type": "markdown",
   "metadata": {},
   "source": [
    "# Tutorial 1: Data preparation for Ghana adaptation example\n",
    "\n"
   ]
  },
  {
   "cell_type": "code",
   "execution_count": null,
   "metadata": {},
   "outputs": [],
   "source": [
    "#data folder link for MAC\n",
    "data_folder = \"/Users/NAME/Desktop/Ghana_tutorial\"\n",
    "#data folder link for Windows users\n",
    "\n",
    "#Sarah to input how it looks for Windows"
   ]
  },
  {
   "cell_type": "code",
   "execution_count": 1,
   "metadata": {},
   "outputs": [],
   "source": [
    "#Load libraries"
   ]
  },
  {
   "cell_type": "code",
   "execution_count": 2,
   "metadata": {},
   "outputs": [
    {
     "ename": "ModuleNotFoundError",
     "evalue": "No module named 'cartopy'",
     "output_type": "error",
     "traceback": [
      "\u001b[0;31m---------------------------------------------------------------------------\u001b[0m",
      "\u001b[0;31mModuleNotFoundError\u001b[0m                       Traceback (most recent call last)",
      "\u001b[0;32m<ipython-input-2-8bc0c57b4525>\u001b[0m in \u001b[0;36m<module>\u001b[0;34m\u001b[0m\n\u001b[1;32m     31\u001b[0m \u001b[0;34m\u001b[0m\u001b[0m\n\u001b[1;32m     32\u001b[0m \u001b[0;34m\u001b[0m\u001b[0m\n\u001b[0;32m---> 33\u001b[0;31m \u001b[0;32mimport\u001b[0m \u001b[0mcartopy\u001b[0m\u001b[0;34m.\u001b[0m\u001b[0mcrs\u001b[0m \u001b[0;32mas\u001b[0m \u001b[0mccrs\u001b[0m\u001b[0;34m\u001b[0m\u001b[0;34m\u001b[0m\u001b[0m\n\u001b[0m\u001b[1;32m     34\u001b[0m \u001b[0;34m\u001b[0m\u001b[0m\n\u001b[1;32m     35\u001b[0m \u001b[0;32mimport\u001b[0m \u001b[0mcartopy\u001b[0m\u001b[0;34m.\u001b[0m\u001b[0mio\u001b[0m\u001b[0;34m.\u001b[0m\u001b[0mshapereader\u001b[0m \u001b[0;32mas\u001b[0m \u001b[0mshpreader\u001b[0m\u001b[0;34m\u001b[0m\u001b[0;34m\u001b[0m\u001b[0m\n",
      "\u001b[0;31mModuleNotFoundError\u001b[0m: No module named 'cartopy'"
     ]
    }
   ],
   "source": [
    "import os \n",
    "\n",
    "import sys \n",
    "\n",
    "import geopandas as gpd \n",
    "\n",
    "import pandas as pd \n",
    "\n",
    "%matplotlib notebook \n",
    "\n",
    "import matplotlib.pyplot as plt \n",
    "\n",
    "  \n",
    "\n",
    "import subprocess \n",
    "\n",
    "  \n",
    "\n",
    "import csv \n",
    "\n",
    "import json \n",
    "\n",
    "import math \n",
    "\n",
    "import os \n",
    "\n",
    "  \n",
    "\n",
    "from collections import namedtuple, OrderedDict \n",
    "\n",
    "  \n",
    "\n",
    "import cartopy.crs as ccrs \n",
    "\n",
    "import cartopy.io.shapereader as shpreader \n",
    "\n",
    "import fiona \n",
    "\n",
    "import geopandas as gpd \n",
    "\n",
    "import matplotlib.patches as mpatches \n",
    "\n",
    "import matplotlib.pyplot as plt \n",
    "\n",
    "import numpy as np \n",
    "\n",
    "  \n",
    "\n",
    "from boltons.iterutils import pairwise \n",
    "\n",
    "from geopy.distance import vincenty \n",
    "\n",
    "from osgeo import gdal \n",
    "\n",
    "  \n",
    "\n",
    "import shapely.geometry \n",
    "\n",
    "import shapely.ops \n",
    "\n",
    "from boltons.iterutils import pairwise \n",
    "\n",
    "from colour import Color \n",
    "\n",
    "from geopy.distance import vincenty \n",
    "\n",
    "from osgeo import gdal \n",
    "\n",
    "from scipy.spatial import Voronoi \n",
    "\n",
    "from shapely.geometry import Polygon, shape "
   ]
  },
  {
   "cell_type": "code",
   "execution_count": null,
   "metadata": {},
   "outputs": [],
   "source": [
    "#Lena to input libraries"
   ]
  },
  {
   "cell_type": "markdown",
   "metadata": {},
   "source": [
    "## Activity 1: Extract infrastructure data"
   ]
  },
  {
   "cell_type": "markdown",
   "metadata": {},
   "source": [
    "#### Step 1) ..."
   ]
  },
  {
   "cell_type": "code",
   "execution_count": null,
   "metadata": {},
   "outputs": [],
   "source": [
    "basepath = '...'"
   ]
  },
  {
   "cell_type": "markdown",
   "metadata": {},
   "source": [
    "#### Step 2) ..."
   ]
  },
  {
   "cell_type": "markdown",
   "metadata": {},
   "source": [
    "#### Step 3) ..."
   ]
  },
  {
   "cell_type": "markdown",
   "metadata": {},
   "source": [
    "#### Step 4) Load the road dataset you've just downloaded"
   ]
  },
  {
   "cell_type": "code",
   "execution_count": null,
   "metadata": {},
   "outputs": [],
   "source": [
    "GHA_OSM_roads = gpd.read_file(os.path.join(data_folder, 'gis_osm_roads_free_1.shp'))"
   ]
  },
  {
   "cell_type": "markdown",
   "metadata": {},
   "source": [
    "#### Step 5) To take a look at the data and the attribute table fill in and run the next two cells"
   ]
  },
  {
   "cell_type": "markdown",
   "metadata": {},
   "source": []
  },
  {
   "cell_type": "code",
   "execution_count": null,
   "metadata": {},
   "outputs": [],
   "source": [
    "GHA_OSM_roads."
   ]
  },
  {
   "cell_type": "markdown",
   "metadata": {},
   "source": [
    "#### Step 6) Next we want to make a couple of changes to the data"
   ]
  },
  {
   "cell_type": "code",
   "execution_count": null,
   "metadata": {},
   "outputs": [],
   "source": [
    "GHA_OSM_roads = GHA_OSM_roads.to_crs(\"EPSG:32630\")"
   ]
  },
  {
   "cell_type": "code",
   "execution_count": null,
   "metadata": {},
   "outputs": [],
   "source": [
    "GHA_OSM_roads = GHA_OSM_roads[['fclass','name','oneway','bridge','tunnel','geometry']]\n",
    "GHA_OSM_roads = GHA_OSM_roads.reset_index()\n",
    "GHA_OSM_roads = GHA_OSM_roads.rename(columns = \n",
    "                                     {'index':'ID','fclass':'TYPE','name':'NAME','oneway'})"
   ]
  },
  {
   "cell_type": "code",
   "execution_count": null,
   "metadata": {},
   "outputs": [],
   "source": [
    "GHA_OSM_roads.head()"
   ]
  },
  {
   "cell_type": "markdown",
   "metadata": {},
   "source": [
    "#### Step 7) Save the pre-processed dataset"
   ]
  },
  {
   "cell_type": "code",
   "execution_count": null,
   "metadata": {},
   "outputs": [],
   "source": [
    "GHA_OSM_roads.to_file(os.path.join(\n",
    "data_folder,'GHA_OSM_roads.gpkg'),layer='OSM-roads', driver=\"GPKG\")"
   ]
  },
  {
   "cell_type": "markdown",
   "metadata": {},
   "source": [
    "## Activity 2: Extract and polygonise hazard data"
   ]
  },
  {
   "cell_type": "code",
   "execution_count": null,
   "metadata": {},
   "outputs": [],
   "source": [
    "for root, dirs, files in os.walk(data_folder, 'flood_layer'): \n",
    "    print(root) \n",
    "    print(dirs) \n",
    "\n",
    "for file in files: \n",
    "    if file.endswith(\"tif\"): \n",
    "        print(\"Found tif file\",file[:-4]) \n",
    "        output_file = file[:-4] + \".shp\" \n",
    "        print(output_file) \n",
    "        output_file_path = os.path.join(data_folder, output_file) \n",
    "        input_file_path = os.path.join(data_folder, file) \n",
    "        print(output_file_path) \n",
    "        subprocess.run([\"gdal_polygonize.py\", input_file_path,'-q','-f', 'ESRI SHAPEFILE',output_file_path]) "
   ]
  },
  {
   "cell_type": "markdown",
   "metadata": {},
   "source": [
    "## Activity 3: Intersect hazard ..."
   ]
  },
  {
   "cell_type": "code",
   "execution_count": 4,
   "metadata": {},
   "outputs": [],
   "source": [
    "#### Step 1) Specify where you want to save your output file"
   ]
  },
  {
   "cell_type": "code",
   "execution_count": null,
   "metadata": {},
   "outputs": [],
   "source": [
    "output_path = gpd.read_file(os.path.join(data_folder) "
   ]
  },
  {
   "cell_type": "code",
   "execution_count": null,
   "metadata": {},
   "outputs": [],
   "source": [
    "def line_length(line, ellipsoid='WGS-84'): \n",
    "\n",
    "    \"\"\"Length of a line in meters, given in geographic coordinates \n",
    "\n",
    "    Adapted from https://gis.stackexchange.com/questions/4022/looking-for-a-pythonic-way-to-calculate-the-length-of-a-wkt-linestring#answer-115285 \n",
    "\n",
    "    Args: \n",
    "\n",
    "        line: a shapely LineString object with WGS-84 coordinates. \n",
    "\n",
    "        ellipsoid: string name of an ellipsoid that `geopy` understands (see http://geopy.readthedocs.io/en/latest/#module-geopy.distance). \n",
    "\n",
    "    Returns: \n",
    "\n",
    "        Length of line in kilometers. \n",
    "\n",
    "    \"\"\" \n",
    "\n",
    "    if line.geometryType() == 'MultiLineString': \n",
    "\n",
    "        return sum(line_length(segment) for segment in line) \n",
    "\n",
    "    return sum( \n",
    "\n",
    "        vincenty(tuple(reversed(a)), tuple(reversed(b)), ellipsoid=ellipsoid).kilometers \n",
    "\n",
    "        for a, b in pairwise(line.coords) \n",
    "\n",
    "    ) \n",
    "\n",
    "def intersections(line_geodataframe,flood_geodataframe,output_path): \n",
    "\n",
    "    data=[] \n",
    "\n",
    "    poly_sindex = flood_gpd.sindex \n",
    "\n",
    "    for l,lines in road_gpd.iterrows(): \n",
    "\n",
    "        if lines.geometry: \n",
    "\n",
    "            intersected_polys = flood_gpd.iloc[list(poly_sindex.intersection(lines.geometry.bounds))] \n",
    "\n",
    "            for p,poly in intersected_polys.iterrows(): \n",
    "\n",
    "                if (lines['geometry'].intersects(poly['geometry']) is True) and (poly.geometry.is_valid is True): \n",
    "\n",
    "                    geom = lines['geometry'].intersection(poly['geometry']) \n",
    "\n",
    "                    data.append({'gid':lines['gid'],'flood_depth':poly['DN'],'flood_length':geom.length,'geometry':geom}) \n",
    "\n",
    "    if data: \n",
    "\n",
    "        intersections_data = gpd.GeoDataFrame(data, columns=['gid','flood_depth', 'flood_length', 'geometry'], crs='epsg:4326') \n",
    "\n",
    "        intersections_data.to_file(os.path.join(output_path,'flood_results.shp')) \n",
    "\n",
    "        return intersections_data \n",
    "\n",
    "def convert(threshold, infile, outfile): \n",
    "\n",
    "    \"\"\"Convert GeoTiff raster file to Shapefile with geometries based on raster threshold less that 999 \n",
    "\n",
    "    Parameters \n",
    "\n",
    "        - threshold - Float value of lower bound of GeoTiff threshold value to be selected \n",
    "\n",
    "        - infile - String name of input GeoTff file path \n",
    "\n",
    "        - tmpfile_1 - Stirng name of tmp file 1 \n",
    "\n",
    "        - outfile - Stirng name of output shapefile \n",
    "\n",
    "    Outputs \n",
    "\n",
    "        Shapefile with Polygon geometries of rasters based on raster values above a threshold \n",
    "\n",
    "    \"\"\" \n",
    "\n",
    "    subprocess.run([ \n",
    "\n",
    "        \"gdal_polygonize.py\", \n",
    "\n",
    "        tmpfile_1, \n",
    "\n",
    "        '-q', \n",
    "\n",
    "        '-f', 'ESRI Shapefile', \n",
    "\n",
    "        outfile \n",
    "\n",
    "    ]) "
   ]
  },
  {
   "cell_type": "code",
   "execution_count": null,
   "metadata": {},
   "outputs": [],
   "source": [
    "intersections(GHA_OSM_roads,flood_geodataframe,output_path) "
   ]
  },
  {
   "cell_type": "markdown",
   "metadata": {},
   "source": [
    "## Activity 4: QGIS"
   ]
  },
  {
   "cell_type": "markdown",
   "metadata": {},
   "source": [
    "Activity 4 is done in QGIS ..."
   ]
  }
 ],
 "metadata": {
  "kernelspec": {
   "display_name": "Python 3",
   "language": "python",
   "name": "python3"
  },
  "language_info": {
   "codemirror_mode": {
    "name": "ipython",
    "version": 3
   },
   "file_extension": ".py",
   "mimetype": "text/x-python",
   "name": "python",
   "nbconvert_exporter": "python",
   "pygments_lexer": "ipython3",
   "version": "3.7.8"
  }
 },
 "nbformat": 4,
 "nbformat_minor": 4
}
