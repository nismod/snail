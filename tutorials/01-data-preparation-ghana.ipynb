{
 "cells": [
  {
   "cell_type": "markdown",
   "metadata": {},
   "source": [
    "# Tutorial 1: Data preparation for Ghana adaptation example\n",
    "\n"
   ]
  },
  {
   "cell_type": "code",
   "execution_count": 13,
   "metadata": {},
   "outputs": [],
   "source": [
    "#Load librariesimport os \n",
    "\n",
    "import sys \n",
    "import geopandas as gpd \n",
    "import pandas as pd \n",
    "%matplotlib notebook \n",
    "import matplotlib.pyplot as plt \n",
    "import subprocess \n",
    "import csv \n",
    "import json \n",
    "import math \n",
    "import os \n",
    "from collections import namedtuple, OrderedDict \n",
    "import fiona \n",
    "import geopandas as gpd \n",
    "import matplotlib.patches as mpatches \n",
    "import matplotlib.pyplot as plt \n",
    "import numpy as np \n",
    "from osgeo import gdal \n",
    "import shapely.geometry \n",
    "import shapely.ops \n",
    "from osgeo import gdal \n",
    "from scipy.spatial import Voronoi \n",
    "from shapely.geometry import Polygon, shape "
   ]
  },
  {
   "cell_type": "code",
   "execution_count": 14,
   "metadata": {},
   "outputs": [],
   "source": [
    "#Lena to input libraries"
   ]
  },
  {
   "cell_type": "markdown",
   "metadata": {},
   "source": [
    "## Activity 1: Extract infrastructure data"
   ]
  },
  {
   "cell_type": "markdown",
   "metadata": {},
   "source": [
    "#### Step 1) ..."
   ]
  },
  {
   "cell_type": "code",
   "execution_count": 19,
   "metadata": {},
   "outputs": [],
   "source": [
    "#data folder link for MAC\n",
    "data_folder = \"/Users/lena/Desktop/Ghana_tutorial/\"\n",
    "\n",
    "#data folder link for Windows users\n",
    "#data_folder = \"XX\"\n",
    "#Sarah to input how it looks for Windows"
   ]
  },
  {
   "cell_type": "markdown",
   "metadata": {},
   "source": [
    "#### Step 2) ..."
   ]
  },
  {
   "cell_type": "markdown",
   "metadata": {},
   "source": [
    "#### Step 3) ..."
   ]
  },
  {
   "cell_type": "markdown",
   "metadata": {},
   "source": [
    "#### Step 4) Load the road dataset you've just downloaded"
   ]
  },
  {
   "cell_type": "code",
   "execution_count": 21,
   "metadata": {},
   "outputs": [],
   "source": [
    "GHA_OSM_roads = gpd.read_file(os.path.join(data_folder,'ghana-latest-free.shp', 'gis_osm_roads_free_1.shp'))"
   ]
  },
  {
   "cell_type": "markdown",
   "metadata": {},
   "source": [
    "#### Step 5) To take a look at the data and the attribute table fill in and run the next two cells"
   ]
  },
  {
   "cell_type": "markdown",
   "metadata": {},
   "source": []
  },
  {
   "cell_type": "code",
   "execution_count": 24,
   "metadata": {},
   "outputs": [
    {
     "data": {
      "text/html": [
       "<div>\n",
       "<style scoped>\n",
       "    .dataframe tbody tr th:only-of-type {\n",
       "        vertical-align: middle;\n",
       "    }\n",
       "\n",
       "    .dataframe tbody tr th {\n",
       "        vertical-align: top;\n",
       "    }\n",
       "\n",
       "    .dataframe thead th {\n",
       "        text-align: right;\n",
       "    }\n",
       "</style>\n",
       "<table border=\"1\" class=\"dataframe\">\n",
       "  <thead>\n",
       "    <tr style=\"text-align: right;\">\n",
       "      <th></th>\n",
       "      <th>osm_id</th>\n",
       "      <th>code</th>\n",
       "      <th>fclass</th>\n",
       "      <th>name</th>\n",
       "      <th>ref</th>\n",
       "      <th>oneway</th>\n",
       "      <th>maxspeed</th>\n",
       "      <th>layer</th>\n",
       "      <th>bridge</th>\n",
       "      <th>tunnel</th>\n",
       "      <th>geometry</th>\n",
       "    </tr>\n",
       "  </thead>\n",
       "  <tbody>\n",
       "    <tr>\n",
       "      <th>0</th>\n",
       "      <td>4790591</td>\n",
       "      <td>5121</td>\n",
       "      <td>unclassified</td>\n",
       "      <td>None</td>\n",
       "      <td>None</td>\n",
       "      <td>F</td>\n",
       "      <td>0</td>\n",
       "      <td>0</td>\n",
       "      <td>F</td>\n",
       "      <td>F</td>\n",
       "      <td>LINESTRING (-0.17184 5.60847, -0.17182 5.60849...</td>\n",
       "    </tr>\n",
       "    <tr>\n",
       "      <th>1</th>\n",
       "      <td>4790592</td>\n",
       "      <td>5122</td>\n",
       "      <td>residential</td>\n",
       "      <td>Nortei Ababio Road</td>\n",
       "      <td>None</td>\n",
       "      <td>B</td>\n",
       "      <td>0</td>\n",
       "      <td>0</td>\n",
       "      <td>F</td>\n",
       "      <td>F</td>\n",
       "      <td>LINESTRING (-0.18282 5.61197, -0.18336 5.61198...</td>\n",
       "    </tr>\n",
       "    <tr>\n",
       "      <th>2</th>\n",
       "      <td>4790594</td>\n",
       "      <td>5115</td>\n",
       "      <td>tertiary</td>\n",
       "      <td>None</td>\n",
       "      <td>None</td>\n",
       "      <td>F</td>\n",
       "      <td>0</td>\n",
       "      <td>0</td>\n",
       "      <td>F</td>\n",
       "      <td>F</td>\n",
       "      <td>LINESTRING (-0.17544 5.60550, -0.17418 5.60555...</td>\n",
       "    </tr>\n",
       "    <tr>\n",
       "      <th>3</th>\n",
       "      <td>4790596</td>\n",
       "      <td>5121</td>\n",
       "      <td>unclassified</td>\n",
       "      <td>None</td>\n",
       "      <td>None</td>\n",
       "      <td>F</td>\n",
       "      <td>0</td>\n",
       "      <td>0</td>\n",
       "      <td>F</td>\n",
       "      <td>F</td>\n",
       "      <td>LINESTRING (-0.17207 5.60853, -0.17207 5.60844...</td>\n",
       "    </tr>\n",
       "    <tr>\n",
       "      <th>4</th>\n",
       "      <td>4790597</td>\n",
       "      <td>5122</td>\n",
       "      <td>residential</td>\n",
       "      <td>Volta Road</td>\n",
       "      <td>None</td>\n",
       "      <td>B</td>\n",
       "      <td>0</td>\n",
       "      <td>0</td>\n",
       "      <td>F</td>\n",
       "      <td>F</td>\n",
       "      <td>LINESTRING (-0.18282 5.61197, -0.18280 5.61262...</td>\n",
       "    </tr>\n",
       "  </tbody>\n",
       "</table>\n",
       "</div>"
      ],
      "text/plain": [
       "    osm_id  code        fclass                name   ref oneway  maxspeed  \\\n",
       "0  4790591  5121  unclassified                None  None      F         0   \n",
       "1  4790592  5122   residential  Nortei Ababio Road  None      B         0   \n",
       "2  4790594  5115      tertiary                None  None      F         0   \n",
       "3  4790596  5121  unclassified                None  None      F         0   \n",
       "4  4790597  5122   residential          Volta Road  None      B         0   \n",
       "\n",
       "   layer bridge tunnel                                           geometry  \n",
       "0      0      F      F  LINESTRING (-0.17184 5.60847, -0.17182 5.60849...  \n",
       "1      0      F      F  LINESTRING (-0.18282 5.61197, -0.18336 5.61198...  \n",
       "2      0      F      F  LINESTRING (-0.17544 5.60550, -0.17418 5.60555...  \n",
       "3      0      F      F  LINESTRING (-0.17207 5.60853, -0.17207 5.60844...  \n",
       "4      0      F      F  LINESTRING (-0.18282 5.61197, -0.18280 5.61262...  "
      ]
     },
     "execution_count": 24,
     "metadata": {},
     "output_type": "execute_result"
    }
   ],
   "source": [
    "GHA_OSM_roads.head()"
   ]
  },
  {
   "cell_type": "markdown",
   "metadata": {},
   "source": [
    "#### Step 6) Next we want to make a couple of changes to the data"
   ]
  },
  {
   "cell_type": "code",
   "execution_count": 25,
   "metadata": {},
   "outputs": [],
   "source": [
    "GHA_OSM_roads = GHA_OSM_roads.to_crs(\"EPSG:32630\")"
   ]
  },
  {
   "cell_type": "code",
   "execution_count": 27,
   "metadata": {},
   "outputs": [],
   "source": [
    "GHA_OSM_roads = GHA_OSM_roads[['fclass','name','oneway','bridge','tunnel','geometry']]\n",
    "GHA_OSM_roads = GHA_OSM_roads.reset_index()\n",
    "GHA_OSM_roads = GHA_OSM_roads.rename(columns = \n",
    "                                     {'index':'ID','fclass':'TYPE','name':'NAME'})"
   ]
  },
  {
   "cell_type": "code",
   "execution_count": 28,
   "metadata": {},
   "outputs": [
    {
     "data": {
      "text/html": [
       "<div>\n",
       "<style scoped>\n",
       "    .dataframe tbody tr th:only-of-type {\n",
       "        vertical-align: middle;\n",
       "    }\n",
       "\n",
       "    .dataframe tbody tr th {\n",
       "        vertical-align: top;\n",
       "    }\n",
       "\n",
       "    .dataframe thead th {\n",
       "        text-align: right;\n",
       "    }\n",
       "</style>\n",
       "<table border=\"1\" class=\"dataframe\">\n",
       "  <thead>\n",
       "    <tr style=\"text-align: right;\">\n",
       "      <th></th>\n",
       "      <th>ID</th>\n",
       "      <th>TYPE</th>\n",
       "      <th>NAME</th>\n",
       "      <th>oneway</th>\n",
       "      <th>bridge</th>\n",
       "      <th>tunnel</th>\n",
       "      <th>geometry</th>\n",
       "    </tr>\n",
       "  </thead>\n",
       "  <tbody>\n",
       "    <tr>\n",
       "      <th>0</th>\n",
       "      <td>0</td>\n",
       "      <td>unclassified</td>\n",
       "      <td>None</td>\n",
       "      <td>F</td>\n",
       "      <td>F</td>\n",
       "      <td>F</td>\n",
       "      <td>LINESTRING (813332.180 620680.284, 813334.396 ...</td>\n",
       "    </tr>\n",
       "    <tr>\n",
       "      <th>1</th>\n",
       "      <td>1</td>\n",
       "      <td>residential</td>\n",
       "      <td>Nortei Ababio Road</td>\n",
       "      <td>B</td>\n",
       "      <td>F</td>\n",
       "      <td>F</td>\n",
       "      <td>LINESTRING (812113.032 621062.316, 812053.497 ...</td>\n",
       "    </tr>\n",
       "    <tr>\n",
       "      <th>2</th>\n",
       "      <td>2</td>\n",
       "      <td>tertiary</td>\n",
       "      <td>None</td>\n",
       "      <td>F</td>\n",
       "      <td>F</td>\n",
       "      <td>F</td>\n",
       "      <td>LINESTRING (812935.075 620350.037, 813074.292 ...</td>\n",
       "    </tr>\n",
       "    <tr>\n",
       "      <th>3</th>\n",
       "      <td>3</td>\n",
       "      <td>unclassified</td>\n",
       "      <td>None</td>\n",
       "      <td>F</td>\n",
       "      <td>F</td>\n",
       "      <td>F</td>\n",
       "      <td>LINESTRING (813307.141 620687.468, 813307.057 ...</td>\n",
       "    </tr>\n",
       "    <tr>\n",
       "      <th>4</th>\n",
       "      <td>4</td>\n",
       "      <td>residential</td>\n",
       "      <td>Volta Road</td>\n",
       "      <td>B</td>\n",
       "      <td>F</td>\n",
       "      <td>F</td>\n",
       "      <td>LINESTRING (812113.032 621062.316, 812114.773 ...</td>\n",
       "    </tr>\n",
       "  </tbody>\n",
       "</table>\n",
       "</div>"
      ],
      "text/plain": [
       "   ID          TYPE                NAME oneway bridge tunnel  \\\n",
       "0   0  unclassified                None      F      F      F   \n",
       "1   1   residential  Nortei Ababio Road      B      F      F   \n",
       "2   2      tertiary                None      F      F      F   \n",
       "3   3  unclassified                None      F      F      F   \n",
       "4   4   residential          Volta Road      B      F      F   \n",
       "\n",
       "                                            geometry  \n",
       "0  LINESTRING (813332.180 620680.284, 813334.396 ...  \n",
       "1  LINESTRING (812113.032 621062.316, 812053.497 ...  \n",
       "2  LINESTRING (812935.075 620350.037, 813074.292 ...  \n",
       "3  LINESTRING (813307.141 620687.468, 813307.057 ...  \n",
       "4  LINESTRING (812113.032 621062.316, 812114.773 ...  "
      ]
     },
     "execution_count": 28,
     "metadata": {},
     "output_type": "execute_result"
    }
   ],
   "source": [
    "GHA_OSM_roads.head()"
   ]
  },
  {
   "cell_type": "markdown",
   "metadata": {},
   "source": [
    "#### Step 7) Save the pre-processed dataset"
   ]
  },
  {
   "cell_type": "code",
   "execution_count": 29,
   "metadata": {},
   "outputs": [],
   "source": [
    "GHA_OSM_roads.to_file(os.path.join(\n",
    "data_folder,'GHA_OSM_roads.gpkg'),layer='OSM-roads', driver=\"GPKG\")"
   ]
  },
  {
   "cell_type": "markdown",
   "metadata": {},
   "source": [
    "## Activity 2: Extract and polygonise hazard data"
   ]
  },
  {
   "cell_type": "code",
   "execution_count": null,
   "metadata": {},
   "outputs": [],
   "source": [
    "#As a second step, we will download the hazard flood layers, provided by Aquaduct in the form of tiff files. These need to be converted (poligonised) into shapefiles in order to perform the intersection between hazards and infrastructure assets. To extract and poligonise the flood hazards, follow these steps:  \n",
    "#1) Download a few tif files from Aqueduct:  https://github.com/nismod/aqueduct/blob/main/tiffs.txt "
   ]
  },
  {
   "cell_type": "code",
   "execution_count": 31,
   "metadata": {},
   "outputs": [
    {
     "name": "stdout",
     "output_type": "stream",
     "text": [
      "/Users/lena/Desktop/Ghana_tutorial\n",
      "['ghana-latest-free.shp', 'flood_layer']\n",
      "/Users/lena/Desktop/Ghana_tutorial/ghana-latest-free.shp\n",
      "[]\n",
      "/Users/lena/Desktop/Ghana_tutorial/flood_layer\n",
      "[]\n",
      "Found tif file inuncoast_rcp4p5_nosub_2050_rp0050_0\n",
      "inuncoast_rcp4p5_nosub_2050_rp0050_0.shp\n",
      "/Users/lena/Desktop/Ghana_tutorial/inuncoast_rcp4p5_nosub_2050_rp0050_0.shp\n",
      "Found tif file inuncoast_rcp8p5_wtsub_2080_rp0050_0\n",
      "inuncoast_rcp8p5_wtsub_2080_rp0050_0.shp\n",
      "/Users/lena/Desktop/Ghana_tutorial/inuncoast_rcp8p5_wtsub_2080_rp0050_0.shp\n",
      "Found tif file inuncoast_rcp8p5_wtsub_2050_rp0500_0\n",
      "inuncoast_rcp8p5_wtsub_2050_rp0500_0.shp\n",
      "/Users/lena/Desktop/Ghana_tutorial/inuncoast_rcp8p5_wtsub_2050_rp0500_0.shp\n"
     ]
    }
   ],
   "source": [
    "for root, dirs, files in os.walk(data_folder, 'flood_layer'): \n",
    "    print(root) \n",
    "    print(dirs) \n",
    "\n",
    "for file in files: \n",
    "    if file.endswith(\"tif\"): \n",
    "        print(\"Found tif file\",file[:-4]) \n",
    "        output_file = file[:-4] + \".shp\" \n",
    "        print(output_file) \n",
    "        output_file_path = os.path.join(data_folder, output_file) \n",
    "        input_file_path = os.path.join(data_folder, file) \n",
    "        print(output_file_path) \n",
    "        subprocess.run([\"gdal_polygonize.py\", input_file_path,'-q','-f', 'ESRI SHAPEFILE',output_file_path]) "
   ]
  },
  {
   "cell_type": "markdown",
   "metadata": {},
   "source": [
    "## Activity 3: Intersect hazard ..."
   ]
  },
  {
   "cell_type": "code",
   "execution_count": 4,
   "metadata": {},
   "outputs": [],
   "source": [
    "#### Step 1) Specify where you want to save your output file"
   ]
  },
  {
   "cell_type": "code",
   "execution_count": 32,
   "metadata": {},
   "outputs": [
    {
     "ename": "SyntaxError",
     "evalue": "unexpected EOF while parsing (<ipython-input-32-2aeb761916fe>, line 1)",
     "output_type": "error",
     "traceback": [
      "\u001b[0;36m  File \u001b[0;32m\"<ipython-input-32-2aeb761916fe>\"\u001b[0;36m, line \u001b[0;32m1\u001b[0m\n\u001b[0;31m    output_path = gpd.read_file(os.path.join(data_folder)\u001b[0m\n\u001b[0m                                                          ^\u001b[0m\n\u001b[0;31mSyntaxError\u001b[0m\u001b[0;31m:\u001b[0m unexpected EOF while parsing\n"
     ]
    }
   ],
   "source": [
    "output_path = gpd.read_file(os.path.join(data_folder, 'results','intersect' ) "
   ]
  },
  {
   "cell_type": "code",
   "execution_count": null,
   "metadata": {},
   "outputs": [],
   "source": [
    "def line_length(line, ellipsoid='WGS-84'): \n",
    "\n",
    "    \"\"\"Length of a line in meters, given in geographic coordinates \n",
    "\n",
    "    Adapted from https://gis.stackexchange.com/questions/4022/looking-for-a-pythonic-way-to-calculate-the-length-of-a-wkt-linestring#answer-115285 \n",
    "\n",
    "    Args: \n",
    "\n",
    "        line: a shapely LineString object with WGS-84 coordinates. \n",
    "\n",
    "        ellipsoid: string name of an ellipsoid that `geopy` understands (see http://geopy.readthedocs.io/en/latest/#module-geopy.distance). \n",
    "\n",
    "    Returns: \n",
    "\n",
    "        Length of line in kilometers. \n",
    "\n",
    "    \"\"\" \n",
    "\n",
    "    if line.geometryType() == 'MultiLineString': \n",
    "        return sum(line_length(segment) for segment in line) \n",
    "    return sum( \n",
    "        vincenty(tuple(reversed(a)), tuple(reversed(b)), ellipsoid=ellipsoid).kilometers \n",
    "        for a, b in pairwise(line.coords) \n",
    "\n",
    "    ) \n",
    "\n",
    "def intersections(line_geodataframe,flood_geodataframe,output_path): \n",
    "    data=[] \n",
    "    poly_sindex = flood_gpd.sindex \n",
    "    for l,lines in road_gpd.iterrows(): \n",
    "        if lines.geometry: \n",
    "            intersected_polys = flood_gpd.iloc[list(poly_sindex.intersection(lines.geometry.bounds))] \n",
    "            for p,poly in intersected_polys.iterrows(): \n",
    "                if (lines['geometry'].intersects(poly['geometry']) is True) and (poly.geometry.is_valid is True): \n",
    "                    geom = lines['geometry'].intersection(poly['geometry']) \n",
    "                    data.append({'gid':lines['gid'],'flood_depth':poly['DN'],'flood_length':geom.length,'geometry':geom}) \n",
    "\n",
    "    if data: \n",
    "\n",
    "        intersections_data = gpd.GeoDataFrame(data, columns=['gid','flood_depth', 'flood_length', 'geometry'], crs='epsg:4326') \n",
    "        intersections_data.to_file(os.path.join(output_path,'flood_results.shp')) \n",
    "        return intersections_data \n",
    "\n",
    "def convert(threshold, infile, outfile): \n",
    "\n",
    "    \"\"\"Convert GeoTiff raster file to Shapefile with geometries based on raster threshold less that 999 \n",
    "\n",
    "    Parameters \n",
    "\n",
    "        - threshold - Float value of lower bound of GeoTiff threshold value to be selected \n",
    "\n",
    "        - infile - String name of input GeoTff file path \n",
    "\n",
    "        - tmpfile_1 - Stirng name of tmp file 1 \n",
    "\n",
    "        - outfile - Stirng name of output shapefile \n",
    "\n",
    "    Outputs \n",
    "\n",
    "        Shapefile with Polygon geometries of rasters based on raster values above a threshold \n",
    "\n",
    "    \"\"\" \n",
    "\n",
    "    subprocess.run([ \n",
    "        \"gdal_polygonize.py\", \n",
    "        tmpfile_1, \n",
    "        '-q', \n",
    "        '-f', 'ESRI Shapefile', \n",
    "        outfile \n",
    "    ]) "
   ]
  },
  {
   "cell_type": "code",
   "execution_count": null,
   "metadata": {},
   "outputs": [],
   "source": [
    "intersections(GHA_OSM_roads,flood_geodataframe,output_path) "
   ]
  },
  {
   "cell_type": "markdown",
   "metadata": {},
   "source": [
    "## Activity 4: QGIS"
   ]
  },
  {
   "cell_type": "markdown",
   "metadata": {},
   "source": [
    "Activity 4 is done in QGIS ..."
   ]
  }
 ],
 "metadata": {
  "kernelspec": {
   "display_name": "Python 3",
   "language": "python",
   "name": "python3"
  },
  "language_info": {
   "codemirror_mode": {
    "name": "ipython",
    "version": 3
   },
   "file_extension": ".py",
   "mimetype": "text/x-python",
   "name": "python",
   "nbconvert_exporter": "python",
   "pygments_lexer": "ipython3",
   "version": "3.7.8"
  }
 },
 "nbformat": 4,
 "nbformat_minor": 4
}
