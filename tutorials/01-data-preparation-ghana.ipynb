{
 "cells": [
  {
   "cell_type": "markdown",
   "metadata": {},
   "source": [
    "# Data preparation for Ghana adaptation example\n",
    "\n"
   ]
  },
  {
   "cell_type": "code",
   "execution_count": null,
   "metadata": {},
   "outputs": [],
   "source": [
    "#data folder link for MAC\n",
    "data_folder = \"/Users/NAME/Desktop/Ghana_tutorial\"\n",
    "#data folder link for Windows users\n",
    "data_folder = \"C:\\\\Users\\\\NAME\\\\Desktop\\\\Ghana_tutorial\""
   ]
  },
  {
   "cell_type": "code",
   "execution_count": null,
   "metadata": {},
   "outputs": [],
   "source": [
    "#Load libraries"
   ]
  },
  {
   "cell_type": "code",
   "execution_count": null,
   "metadata": {},
   "outputs": [],
   "source": [
    "import os \n",
    "import sys \n",
    "import geopandas as gpd \n",
    "import pandas as pd\n",
    "import matplotlib.pyplot as plt \n",
    "import subprocess \n",
    "import csv \n",
    "import json \n",
    "import math \n",
    "import os \n",
    "\n",
    "from collections import namedtuple, OrderedDict \n",
    "\n",
    "import cartopy.crs as ccrs \n",
    "import cartopy.io.shapereader as shpreader \n",
    "from collections import namedtuple, OrderedDict \n",
    "import fiona \n",
    "import geopandas as gpd \n",
    "import matplotlib.patches as mpatches \n",
    "import matplotlib.pyplot as plt \n",
    "import numpy as np \n",
    "\n",
    "  \n",
    "from boltons.iterutils import pairwise \n",
    "\n",
    "from geopy.distance import vincenty \n",
    "\n",
    "from osgeo import gdal \n",
    "\n",
    "from osgeo import gdal \n",
    "import shapely.geometry \n",
    "import shapely.ops \n",
    "from osgeo import gdal \n",
    "from scipy.spatial import Voronoi \n",
    "from shapely.geometry import Polygon, shape "
   ]
  },
  {
   "cell_type": "markdown",
   "metadata": {},
   "source": [
    "## Activity 1: Extract infrastructure data\n",
    "### Step 1) ..."
   ]
  },
  {
   "cell_type": "code",
   "execution_count": null,
   "metadata": {},
   "outputs": [],
   "source": [
    "#On your desktop, create a folder called Ghana_tutorial"
   ]
  },
  {
   "cell_type": "markdown",
   "metadata": {},
   "source": [
    "#### Step 2) ..."
   ]
  },
  {
   "cell_type": "code",
   "execution_count": null,
   "metadata": {},
   "outputs": [],
   "source": [
    "#type in the path towards your desktop, by changing NAME with the name as shown on your computer"
   ]
  },
  {
   "cell_type": "code",
   "execution_count": null,
   "metadata": {},
   "outputs": [],
   "source": [
    "basepath = '...'#data folder link for MAC\n",
    "data_folder = \"/Users/lena/Desktop/Ghana_tutorial/\"\n",
    "data_folder = \"/Users/NAME/Desktop/Ghana_tutorial/\"\n",
    "\n",
    "#data folder link for Windows users\n",
    "#data_folder = \"XX\"\n",
    "#Sarah to input how it looks for Windowsdata_folder = \"C:\\\\Users\\\\NAME\\\\Desktop\\\\Ghana_tutorial\"\n"
   ]
  },
  {
   "cell_type": "markdown",
   "metadata": {},
   "source": [
    "#### Step 3) ..."
   ]
  },
  {
   "cell_type": "code",
   "execution_count": null,
   "metadata": {},
   "outputs": [],
   "source": [
    "#Load libraries\n",
    "\n",
    "import sys \n",
    "import geopandas as gpd \n",
    "import pandas as pd \n",
    "%matplotlib notebook \n",
    "import matplotlib.pyplot as plt \n",
    "import subprocess \n",
    "import csv \n",
    "import json \n",
    "import math \n",
    "import os \n",
    "from collections import namedtuple, OrderedDict \n",
    "import fiona \n",
    "import geopandas as gpd \n",
    "import matplotlib.patches as mpatches \n",
    "import matplotlib.pyplot as plt \n",
    "import numpy as np \n",
    "from osgeo import gdal \n",
    "import shapely.geometry \n",
    "import shapely.ops \n",
    "from osgeo import gdal \n",
    "from scipy.spatial import Voronoi \n",
    "from shapely.geometry import Polygon, shape "
   ]
  },
  {
   "cell_type": "markdown",
   "metadata": {},
   "source": [
    "#### Step 4) and 5) Download data and save data"
   ]
  },
  {
   "cell_type": "code",
   "execution_count": null,
   "metadata": {},
   "outputs": [],
   "source": [
    "#Download the dataset in http://download.geofabrik.de/africa/ghana.html, extract the zip folder and save the extracted folder within your new folder 'Ghana_tutorial'"
   ]
  },
  {
   "cell_type": "markdown",
   "metadata": {},
   "source": [
    "#### Step 6) Load the road dataset you've just downloaded"
   ]
  },
  {
   "cell_type": "code",
   "execution_count": null,
   "metadata": {},
   "outputs": [],
   "source": [
    "GHA_OSM_roads = gpd.read_file(os.path.join(data_folder,'ghana-latest-free.shp', 'gis_osm_roads_free_1.shp'))"
   ]
  },
  {
   "cell_type": "markdown",
   "metadata": {},
   "source": [
    "#### Step 7) To take a look at the data and the attribute table fill in and run the next two cells"
   ]
  },
  {
   "cell_type": "markdown",
   "metadata": {},
   "source": []
  },
  {
   "cell_type": "code",
   "execution_count": null,
   "metadata": {},
   "outputs": [],
   "source": [
    "GHA_OSM_roads.head()"
   ]
  },
  {
   "cell_type": "markdown",
   "metadata": {},
   "source": [
    "#### Step 8) Next we want to make a couple of changes to the data"
   ]
  },
  {
   "cell_type": "code",
   "execution_count": null,
   "metadata": {},
   "outputs": [],
   "source": []
  },
  {
   "cell_type": "code",
   "execution_count": null,
   "metadata": {},
   "outputs": [],
   "source": [
    "GHA_OSM_roads = GHA_OSM_roads[['fclass','name','oneway','bridge','tunnel','geometry']]\n",
    "GHA_OSM_roads = GHA_OSM_roads.reset_index()\n",
    "GHA_OSM_roads = GHA_OSM_roads.rename(columns = \n",
    "                                     {'index':'ID','fclass':'TYPE','name':'NAME'})"
   ]
  },
  {
   "cell_type": "code",
   "execution_count": null,
   "metadata": {},
   "outputs": [],
   "source": [
    "GHA_OSM_roads.head()"
   ]
  },
  {
   "cell_type": "markdown",
   "metadata": {},
   "source": [
    "#### Step 9) Save the pre-processed dataset"
   ]
  },
  {
   "cell_type": "code",
   "execution_count": null,
   "metadata": {},
   "outputs": [],
   "source": [
    "GHA_OSM_roads.to_file(os.path.join(\n",
    "data_folder,'GHA_OSM_roads.gpkg'),layer='OSM-roads', driver=\"GPKG\")"
   ]
  },
  {
   "cell_type": "markdown",
   "metadata": {},
   "source": [
    "## Activity 2: Extract and polygonise hazard data"
   ]
  },
  {
   "cell_type": "markdown",
   "metadata": {},
   "source": [
    "#### Step 1) In the first step you've downloaded the flood data as tiff files from the Aqueduct database on GitHub"
   ]
  },
  {
   "cell_type": "markdown",
   "metadata": {},
   "source": [
    "#### Step 2) In Step 2 you've created a new folder named *flood_layer* in your *data_folder* and saved your flood data "
   ]
  },
  {
   "cell_type": "markdown",
   "metadata": {},
   "source": [
    "#### Step 3) Now we want to convert the flood maps from *tiff files (raster data)* into *shape files (vector data)*"
   ]
  },
  {
   "cell_type": "code",
   "execution_count": null,
   "metadata": {},
   "outputs": [],
   "source": [
    "#As a second step, we will download the hazard flood layers, provided by Aquaduct in the form of tiff files. These need to be converted (poligonised) into shapefiles in order to perform the intersection between hazards and infrastructure assets. To extract and poligonise the flood hazards, follow these steps:  "
   ]
  },
  {
   "cell_type": "markdown",
   "metadata": {},
   "source": [
    "#### 1) Download a few tif files from Aqueduct:  https://github.com/nismod/aqueduct/blob/main/tiffs.txt "
   ]
  },
  {
   "cell_type": "code",
   "execution_count": null,
   "metadata": {},
   "outputs": [],
   "source": [
    "#Save all downloaded tif files in a new folder titled ‘flood_layer’ under your data_folder (home directory, see Activity 1, Step 1  (for example: Desktop/Ghana_tutorial)"
   ]
  },
  {
   "cell_type": "markdown",
   "metadata": {},
   "source": [
    "#### Step 2) Run the below code to polygonise the tif files"
   ]
  },
  {
   "cell_type": "code",
   "execution_count": null,
   "metadata": {},
   "outputs": [],
   "source": [
    "#Running the below code might take a while "
   ]
  },
  {
   "cell_type": "code",
   "execution_count": null,
   "metadata": {},
   "outputs": [],
   "source": [
    "for root, dirs, files in os.walk(data_folder, 'flood_layer'): \n",
    "    print(root) \n",
    "    print(dirs) \n",
    "\n",
    "for file in files: \n",
    "    if file.endswith(\"tif\"): \n",
    "        print(\"Found tif file\",file[:-4]) \n",
    "        output_file = file[:-4] + \".shp\" \n",
    "        print(output_file) \n",
    "        output_file_path = os.path.join(data_folder, output_file) \n",
    "        input_file_path = os.path.join(data_folder, file) \n",
    "        output_file_path = os.path.join(data_folder, 'flood_layer',output_file) \n",
    "        input_file_path = os.path.join(data_folder, 'flood_layer', file) \n",
    "        print(output_file_path) \n",
    "        subprocess.run([\"gdal_polygonize.py\", input_file_path,'-q','-f', 'ESRI SHAPEFILE',output_file_path]) "
   ]
  },
  {
   "cell_type": "markdown",
   "metadata": {},
   "source": [
    "## Activity 3: Intersect hazard ..."
   ]
  },
  {
   "cell_type": "markdown",
   "metadata": {},
   "source": [
    "#let us now intersect the hazard and the roads, starting with one hazard initially so we save time"
   ]
  },
  {
   "cell_type": "markdown",
   "metadata": {},
   "source": [
    "#### Step 1) Specify your input and output path as well as the name of the intersection"
   ]
  },
  {
   "cell_type": "code",
   "execution_count": null,
   "metadata": {},
   "outputs": [],
   "source": [
    "flood_gpd = gpd.read_file(os.path.join(data_folder,'flood_layer','inuncoast_rcp4p5_nosub_2050_rp0050_0.shp'))\n",
    "output_path = os.path.join(data_folder, 'results')           \n",
    "                                   "
   ]
  },
  {
   "cell_type": "code",
   "execution_count": null,
   "metadata": {},
   "outputs": [],
   "source": [
    "## We now need to change and align the projection of the flood geodataframe we are using "
   ]
  },
  {
   "cell_type": "code",
   "execution_count": null,
   "metadata": {},
   "outputs": [],
   "source": [
    "#flood_gpd = flood_gpd.to_crs(\"EPSG:32630\")"
   ]
  },
  {
   "cell_type": "code",
   "execution_count": null,
   "metadata": {},
   "outputs": [],
   "source": [
    "def line_length(line, ellipsoid='WGS-84'): \n",
    "\n",
    "    \"\"\"Length of a line in meters, given in geographic coordinates \n",
    "\n",
    "    Adapted from https://gis.stackexchange.com/questions/4022/looking-for-a-pythonic-way-to-calculate-the-length-of-a-wkt-linestring#answer-115285 \n",
    "\n",
    "    Args: \n",
    "\n",
    "        line: a shapely LineString object with WGS-84 coordinates. \n",
    "\n",
    "        ellipsoid: string name of an ellipsoid that `geopy` understands (see http://geopy.readthedocs.io/en/latest/#module-geopy.distance). \n",
    "\n",
    "    Returns: \n",
    "\n",
    "        Length of line in kilometers. \n",
    "\n",
    "    \"\"\" \n",
    "    if line.geometryType() == 'MultiLineString': \n",
    "        return sum(line_length(segment) for segment in line) \n",
    "    return sum( \n",
    "        vincenty(tuple(reversed(a)), tuple(reversed(b)), ellipsoid=ellipsoid).kilometers \n",
    "        for a, b in pairwise(line.coords) \n",
    "    ) \n",
    "\n",
    "def intersections(road_gpd,flood_gpd,output_path): \n",
    "    data=[] \n",
    "    poly_sindex = flood_gpd.sindex \n",
    "    for l,lines in road_gpd.iterrows(): \n",
    "        if lines.geometry: \n",
    "            intersected_polys = flood_gpd.iloc[list(poly_sindex.intersection(lines.geometry.bounds))] \n",
    "            for p,poly in intersected_polys.iterrows(): \n",
    "                if (lines['geometry'].intersects(poly['geometry']) is True) and (poly.geometry.is_valid is True): \n",
    "                    geom = lines['geometry'].intersection(poly['geometry']) \n",
    "                    data.append({'gid':lines['gid'],'flood_depth':poly['DN'],'flood_length':geom.length,'geometry':geom}) \n",
    "\n",
    "    if data: \n",
    "        intersections_data = gpd.GeoDataFrame(data, columns=['gid','flood_depth', 'flood_length', 'geometry'], crs='epsg:4326') \n",
    "        intersections_data.to_file(os.path.join(output_path,'flood_results.shp')) \n",
    "        return intersections_data \n",
    "\n",
    "def convert(threshold, infile, outfile): \n",
    "\n",
    "    \"\"\"Convert GeoTiff raster file to Shapefile with geometries based on raster threshold less that 999 \n",
    "    Parameters \n",
    "        - threshold - Float value of lower bound of GeoTiff threshold value to be selected \n",
    "        - infile - String name of input GeoTff file path \n",
    "        - tmpfile_1 - Stirng name of tmp file 1 \n",
    "        - outfile - Stirng name of output shapefile \n",
    "\n",
    "    Outputs \n",
    "        Shapefile with Polygon geometries of rasters based on raster values above a threshold \n",
    "\n",
    "    \"\"\" \n",
    "    subprocess.run([ \n",
    "        \"gdal_polygonize.py\", \n",
    "        tmpfile_1, \n",
    "        '-q', \n",
    "        '-f', 'ESRI Shapefile', \n",
    "        outfile \n",
    "    ]) "
   ]
  },
  {
   "cell_type": "markdown",
   "metadata": {},
   "source": [
    "#### Step 2) Running the intersection"
   ]
  },
  {
   "cell_type": "code",
   "execution_count": null,
   "metadata": {},
   "outputs": [],
   "source": [
    "#We now run the intersection\n",
    "intersections(GHA_OSM_roads,flood_gpd,output_path) "
   ]
  },
  {
   "cell_type": "markdown",
   "metadata": {},
   "source": [
    "## Activity 4: QGIS"
   ]
  },
  {
   "cell_type": "markdown",
   "metadata": {},
   "source": [
    "Activity 4 is done in QGIS ..."
   ]
  }
 ],
 "metadata": {
  "kernelspec": {
   "display_name": "Python 3",
   "language": "python",
   "name": "python3"
  },
  "language_info": {
   "codemirror_mode": {
    "name": "ipython",
    "version": 3
   },
   "file_extension": ".py",
   "mimetype": "text/x-python",
   "name": "python",
   "nbconvert_exporter": "python",
   "pygments_lexer": "ipython3",
   "version": "3.7.10"
  }
 },
 "nbformat": 4,
 "nbformat_minor": 4
}
